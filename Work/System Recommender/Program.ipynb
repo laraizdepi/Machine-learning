{
 "cells": [
  {
   "cell_type": "code",
   "execution_count": 214,
   "metadata": {},
   "outputs": [],
   "source": [
    "import pandas as pd \n",
    "import numpy as np\n",
    "import matplotlib as plt\n",
    "import random"
   ]
  },
  {
   "cell_type": "code",
   "execution_count": 215,
   "metadata": {},
   "outputs": [],
   "source": [
    "#contants\n",
    "data= {}\n",
    "movies_list = []\n",
    "users = []\n",
    "movies = []\n",
    "\n",
    "#THE USER BOUGHT YES OR NOT WITH YES AS 1 AND NO AS 0\n",
    "purchase = [0, 0, 0, 1]\n",
    "\n",
    "for i in range(10):\n",
    "    YesOrNot = []\n",
    "\n",
    "    #generating the variables\n",
    "    globals()['user_{}'.format(i)] = YesOrNot\n",
    "    globals()['movies_{}'.format(i)] = []\n",
    "\n",
    "    data['Movie_{}'.format(i)] = globals()['user_{}'.format(i)]\n",
    "\n",
    "    #List of othe movies and the users\n",
    "    users.append('users_{}'.format(i))\n",
    "    movies.append('movies_{}'.format(i))\n",
    "\n",
    "    #assig each one variable to a list with 10 random elements \n",
    "    for i in range(10):\n",
    "        value = random.choice(purchase)\n",
    "        YesOrNot.append(value)\n",
    "data[\"Users\"] = users\n",
    "\n"
   ]
  },
  {
   "cell_type": "code",
   "execution_count": 213,
   "metadata": {},
   "outputs": [
    {
     "output_type": "execute_result",
     "data": {
      "text/plain": [
       "         Movie_0  Movie_1  Movie_2  Movie_3  Movie_4  Movie_5  Movie_6  \\\n",
       "Users                                                                    \n",
       "users_0        1        0        0        0        0        1        0   \n",
       "users_1        0        0        0        0        0        0        0   \n",
       "users_2        1        1        0        0        1        0        0   \n",
       "users_3        1        0        0        0        0        0        0   \n",
       "users_4        0        0        0        0        0        0        0   \n",
       "users_5        0        1        1        1        1        0        0   \n",
       "users_6        0        0        0        0        0        1        1   \n",
       "users_7        1        0        0        0        0        0        0   \n",
       "users_8        0        0        1        1        0        0        0   \n",
       "users_9        0        0        0        1        1        0        0   \n",
       "\n",
       "         Movie_7  Movie_8  Movie_9  \n",
       "Users                               \n",
       "users_0        1        0        0  \n",
       "users_1        1        1        0  \n",
       "users_2        0        0        0  \n",
       "users_3        0        0        0  \n",
       "users_4        0        0        0  \n",
       "users_5        1        1        0  \n",
       "users_6        1        0        1  \n",
       "users_7        0        0        0  \n",
       "users_8        0        1        0  \n",
       "users_9        1        0        0  "
      ],
      "text/html": "<div>\n<style scoped>\n    .dataframe tbody tr th:only-of-type {\n        vertical-align: middle;\n    }\n\n    .dataframe tbody tr th {\n        vertical-align: top;\n    }\n\n    .dataframe thead th {\n        text-align: right;\n    }\n</style>\n<table border=\"1\" class=\"dataframe\">\n  <thead>\n    <tr style=\"text-align: right;\">\n      <th></th>\n      <th>Movie_0</th>\n      <th>Movie_1</th>\n      <th>Movie_2</th>\n      <th>Movie_3</th>\n      <th>Movie_4</th>\n      <th>Movie_5</th>\n      <th>Movie_6</th>\n      <th>Movie_7</th>\n      <th>Movie_8</th>\n      <th>Movie_9</th>\n    </tr>\n    <tr>\n      <th>Users</th>\n      <th></th>\n      <th></th>\n      <th></th>\n      <th></th>\n      <th></th>\n      <th></th>\n      <th></th>\n      <th></th>\n      <th></th>\n      <th></th>\n    </tr>\n  </thead>\n  <tbody>\n    <tr>\n      <th>users_0</th>\n      <td>1</td>\n      <td>0</td>\n      <td>0</td>\n      <td>0</td>\n      <td>0</td>\n      <td>1</td>\n      <td>0</td>\n      <td>1</td>\n      <td>0</td>\n      <td>0</td>\n    </tr>\n    <tr>\n      <th>users_1</th>\n      <td>0</td>\n      <td>0</td>\n      <td>0</td>\n      <td>0</td>\n      <td>0</td>\n      <td>0</td>\n      <td>0</td>\n      <td>1</td>\n      <td>1</td>\n      <td>0</td>\n    </tr>\n    <tr>\n      <th>users_2</th>\n      <td>1</td>\n      <td>1</td>\n      <td>0</td>\n      <td>0</td>\n      <td>1</td>\n      <td>0</td>\n      <td>0</td>\n      <td>0</td>\n      <td>0</td>\n      <td>0</td>\n    </tr>\n    <tr>\n      <th>users_3</th>\n      <td>1</td>\n      <td>0</td>\n      <td>0</td>\n      <td>0</td>\n      <td>0</td>\n      <td>0</td>\n      <td>0</td>\n      <td>0</td>\n      <td>0</td>\n      <td>0</td>\n    </tr>\n    <tr>\n      <th>users_4</th>\n      <td>0</td>\n      <td>0</td>\n      <td>0</td>\n      <td>0</td>\n      <td>0</td>\n      <td>0</td>\n      <td>0</td>\n      <td>0</td>\n      <td>0</td>\n      <td>0</td>\n    </tr>\n    <tr>\n      <th>users_5</th>\n      <td>0</td>\n      <td>1</td>\n      <td>1</td>\n      <td>1</td>\n      <td>1</td>\n      <td>0</td>\n      <td>0</td>\n      <td>1</td>\n      <td>1</td>\n      <td>0</td>\n    </tr>\n    <tr>\n      <th>users_6</th>\n      <td>0</td>\n      <td>0</td>\n      <td>0</td>\n      <td>0</td>\n      <td>0</td>\n      <td>1</td>\n      <td>1</td>\n      <td>1</td>\n      <td>0</td>\n      <td>1</td>\n    </tr>\n    <tr>\n      <th>users_7</th>\n      <td>1</td>\n      <td>0</td>\n      <td>0</td>\n      <td>0</td>\n      <td>0</td>\n      <td>0</td>\n      <td>0</td>\n      <td>0</td>\n      <td>0</td>\n      <td>0</td>\n    </tr>\n    <tr>\n      <th>users_8</th>\n      <td>0</td>\n      <td>0</td>\n      <td>1</td>\n      <td>1</td>\n      <td>0</td>\n      <td>0</td>\n      <td>0</td>\n      <td>0</td>\n      <td>1</td>\n      <td>0</td>\n    </tr>\n    <tr>\n      <th>users_9</th>\n      <td>0</td>\n      <td>0</td>\n      <td>0</td>\n      <td>1</td>\n      <td>1</td>\n      <td>0</td>\n      <td>0</td>\n      <td>1</td>\n      <td>0</td>\n      <td>0</td>\n    </tr>\n  </tbody>\n</table>\n</div>"
     },
     "metadata": {},
     "execution_count": 213
    }
   ],
   "source": [
    "df = pd.DataFrame(data).set_index(\"Users\")\n",
    "df.head(10)"
   ]
  },
  {
   "cell_type": "code",
   "execution_count": 206,
   "metadata": {},
   "outputs": [
    {
     "output_type": "execute_result",
     "data": {
      "text/plain": [
       "  brayan andres  vera medina  movies_0  movies_1  movies_2  movies_3  \\\n",
       "0      1      2     1      3         0         1         2         3   \n",
       "1      2      5     2      5         0         1         2         3   \n",
       "2      3      1     3      1         0         1         2         3   \n",
       "3      4      4     4      2         0         1         2         3   \n",
       "4      5      5     5      3         0         1         2         3   \n",
       "\n",
       "   movies_4  movies_5  movies_6  movies_7  movies_8  movies_9  \n",
       "0         4         5         6         7         8         9  \n",
       "1         4         5         6         7         8         9  \n",
       "2         4         5         6         7         8         9  \n",
       "3         4         5         6         7         8         9  \n",
       "4         4         5         6         7         8         9  "
      ],
      "text/html": "<div>\n<style scoped>\n    .dataframe tbody tr th:only-of-type {\n        vertical-align: middle;\n    }\n\n    .dataframe tbody tr th {\n        vertical-align: top;\n    }\n\n    .dataframe thead th {\n        text-align: right;\n    }\n</style>\n<table border=\"1\" class=\"dataframe\">\n  <thead>\n    <tr style=\"text-align: right;\">\n      <th></th>\n      <th>brayan</th>\n      <th>andres</th>\n      <th>vera</th>\n      <th>medina</th>\n      <th>movies_0</th>\n      <th>movies_1</th>\n      <th>movies_2</th>\n      <th>movies_3</th>\n      <th>movies_4</th>\n      <th>movies_5</th>\n      <th>movies_6</th>\n      <th>movies_7</th>\n      <th>movies_8</th>\n      <th>movies_9</th>\n    </tr>\n  </thead>\n  <tbody>\n    <tr>\n      <th>0</th>\n      <td>1</td>\n      <td>2</td>\n      <td>1</td>\n      <td>3</td>\n      <td>0</td>\n      <td>1</td>\n      <td>2</td>\n      <td>3</td>\n      <td>4</td>\n      <td>5</td>\n      <td>6</td>\n      <td>7</td>\n      <td>8</td>\n      <td>9</td>\n    </tr>\n    <tr>\n      <th>1</th>\n      <td>2</td>\n      <td>5</td>\n      <td>2</td>\n      <td>5</td>\n      <td>0</td>\n      <td>1</td>\n      <td>2</td>\n      <td>3</td>\n      <td>4</td>\n      <td>5</td>\n      <td>6</td>\n      <td>7</td>\n      <td>8</td>\n      <td>9</td>\n    </tr>\n    <tr>\n      <th>2</th>\n      <td>3</td>\n      <td>1</td>\n      <td>3</td>\n      <td>1</td>\n      <td>0</td>\n      <td>1</td>\n      <td>2</td>\n      <td>3</td>\n      <td>4</td>\n      <td>5</td>\n      <td>6</td>\n      <td>7</td>\n      <td>8</td>\n      <td>9</td>\n    </tr>\n    <tr>\n      <th>3</th>\n      <td>4</td>\n      <td>4</td>\n      <td>4</td>\n      <td>2</td>\n      <td>0</td>\n      <td>1</td>\n      <td>2</td>\n      <td>3</td>\n      <td>4</td>\n      <td>5</td>\n      <td>6</td>\n      <td>7</td>\n      <td>8</td>\n      <td>9</td>\n    </tr>\n    <tr>\n      <th>4</th>\n      <td>5</td>\n      <td>5</td>\n      <td>5</td>\n      <td>3</td>\n      <td>0</td>\n      <td>1</td>\n      <td>2</td>\n      <td>3</td>\n      <td>4</td>\n      <td>5</td>\n      <td>6</td>\n      <td>7</td>\n      <td>8</td>\n      <td>9</td>\n    </tr>\n  </tbody>\n</table>\n</div>"
     },
     "metadata": {},
     "execution_count": 206
    }
   ],
   "source": [
    "intento = {\n",
    "    \"brayan\" : [\"1\", \"2\", 3, 4, 5],\n",
    "    \"andres\" : [\"2\", \"5\", 1, 4, 5],\n",
    "    \"vera\" : [1, 2, 3, 4, 5,],\n",
    "    \"medina\" : [\"3\", \"5\", 1, 2, 3]\n",
    "}\n",
    "for i in range(10):\n",
    "    globals()['user_{}'.format(i)] = i \n",
    "    globals()['movies_{}'.format(i)] = i +1\n",
    "    #print(globals()['user_{}'.format(i)])\n",
    "    intento['movies_{}'.format(i)] = globals()['user_{}'.format(i)]\n",
    "dataFr = pd.DataFrame(intento)\n",
    "dataFr.head(10)"
   ]
  }
 ],
 "metadata": {
  "kernelspec": {
   "name": "python385jvsc74a57bd065c7b65fc82b448c8011f99bd8f98831e7bc5c92a479ce3bfe18c36b701290fd",
   "display_name": "Python 3.8.5 64-bit ('base': conda)"
  },
  "language_info": {
   "codemirror_mode": {
    "name": "ipython",
    "version": 3
   },
   "file_extension": ".py",
   "mimetype": "text/x-python",
   "name": "python",
   "nbconvert_exporter": "python",
   "pygments_lexer": "ipython3",
   "version": "3.8.5"
  }
 },
 "nbformat": 4,
 "nbformat_minor": 4
}