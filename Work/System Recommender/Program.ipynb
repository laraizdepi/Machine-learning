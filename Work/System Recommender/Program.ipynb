{
 "cells": [
  {
   "cell_type": "code",
   "execution_count": 273,
   "metadata": {},
   "outputs": [],
   "source": [
    "import pandas as pd \n",
    "import numpy as np\n",
    "import matplotlib as plt\n",
    "import random\n",
    "from sklearn.metrics import jaccard_score\n",
    "random.seed(2021)"
   ]
  },
  {
   "cell_type": "code",
   "execution_count": 279,
   "metadata": {},
   "outputs": [],
   "source": [
    "#contants\n",
    "data= {}\n",
    "movies_list = []\n",
    "users = []\n",
    "movies = []\n",
    "\n",
    "#THE USER BOUGHT YES OR NOT WITH YES AS 1 AND NO AS 0\n",
    "purchase = [0, 0, 0, 1]\n",
    "\n",
    "for i in range(20):\n",
    "    YesOrNot = []\n",
    "\n",
    "    #generating the variables\n",
    "    globals()['user_{}'.format(i)] = YesOrNot\n",
    "    globals()['movies_{}'.format(i)] = []\n",
    "\n",
    "    data['Movie_{}'.format(i)] = globals()['user_{}'.format(i)]\n",
    "\n",
    "    #List of othe movies and the users\n",
    "    users.append('users_{}'.format(i))\n",
    "    movies.append('movies_{}'.format(i))\n",
    "\n",
    "    #assig each one variable to a list with 10 random elements \n",
    "    for i in range(20):\n",
    "        value = random.choice(purchase)\n",
    "        YesOrNot.append(value)\n",
    "data[\"Users\"] = users\n",
    "\n"
   ]
  },
  {
   "cell_type": "code",
   "execution_count": 291,
   "metadata": {},
   "outputs": [
    {
     "output_type": "execute_result",
     "data": {
      "text/plain": [
       "          Movie_0  Movie_1  Movie_2  Movie_3  Movie_4  Movie_5  Movie_6  \\\n",
       "Users                                                                     \n",
       "users_0         0        0        0        0        0        1        0   \n",
       "users_1         0        1        0        0        0        0        1   \n",
       "users_2         1        1        0        1        1        0        0   \n",
       "users_3         0        0        0        0        0        1        0   \n",
       "users_4         1        0        0        0        0        0        1   \n",
       "users_5         0        1        0        0        0        0        1   \n",
       "users_6         0        0        0        1        0        0        0   \n",
       "users_7         1        0        0        0        1        1        0   \n",
       "users_8         0        0        0        0        0        0        0   \n",
       "users_9         0        0        0        0        0        0        1   \n",
       "users_10        0        0        0        0        0        0        0   \n",
       "users_11        1        0        0        0        0        0        0   \n",
       "users_12        0        0        1        0        0        0        0   \n",
       "users_13        0        0        0        0        0        0        1   \n",
       "users_14        0        0        0        0        1        1        1   \n",
       "users_15        0        0        0        0        0        0        1   \n",
       "users_16        0        1        0        0        0        1        0   \n",
       "users_17        0        0        0        0        1        0        1   \n",
       "users_18        0        0        0        0        0        0        0   \n",
       "users_19        0        1        0        0        1        1        0   \n",
       "\n",
       "          Movie_7  Movie_8  Movie_9  Movie_10  Movie_11  Movie_12  Movie_13  \\\n",
       "Users                                                                         \n",
       "users_0         0        0        0         1         0         0         0   \n",
       "users_1         0        1        0         0         1         1         0   \n",
       "users_2         0        0        1         0         0         1         0   \n",
       "users_3         0        0        0         0         0         0         0   \n",
       "users_4         0        1        0         1         0         0         0   \n",
       "users_5         0        0        0         0         1         1         0   \n",
       "users_6         0        0        0         0         1         0         0   \n",
       "users_7         0        0        1         0         0         0         0   \n",
       "users_8         0        1        0         1         0         0         0   \n",
       "users_9         0        0        1         0         1         0         0   \n",
       "users_10        0        0        0         0         0         0         0   \n",
       "users_11        0        1        0         0         1         0         0   \n",
       "users_12        0        0        0         0         1         0         0   \n",
       "users_13        0        1        0         1         1         0         1   \n",
       "users_14        1        1        0         0         1         0         0   \n",
       "users_15        1        0        0         0         0         0         0   \n",
       "users_16        0        0        0         0         0         0         0   \n",
       "users_17        0        1        0         0         1         1         0   \n",
       "users_18        1        0        0         0         1         0         1   \n",
       "users_19        1        0        0         1         0         0         0   \n",
       "\n",
       "          Movie_14  Movie_15  Movie_16  Movie_17  Movie_18  Movie_19  \n",
       "Users                                                                 \n",
       "users_0          0         1         0         0         0         0  \n",
       "users_1          0         0         0         0         0         0  \n",
       "users_2          0         1         0         0         0         0  \n",
       "users_3          0         0         0         0         0         0  \n",
       "users_4          1         1         0         0         0         0  \n",
       "users_5          0         0         1         0         0         0  \n",
       "users_6          0         1         0         0         0         0  \n",
       "users_7          0         1         0         1         1         1  \n",
       "users_8          0         0         0         0         1         0  \n",
       "users_9          0         1         0         0         1         0  \n",
       "users_10         1         0         0         0         0         0  \n",
       "users_11         0         0         1         0         0         1  \n",
       "users_12         0         0         0         1         0         1  \n",
       "users_13         0         0         0         0         1         0  \n",
       "users_14         0         0         0         1         0         0  \n",
       "users_15         0         0         0         1         1         1  \n",
       "users_16         1         0         0         1         1         0  \n",
       "users_17         1         1         0         0         0         0  \n",
       "users_18         0         1         1         0         0         0  \n",
       "users_19         1         0         0         0         0         0  "
      ],
      "text/html": "<div>\n<style scoped>\n    .dataframe tbody tr th:only-of-type {\n        vertical-align: middle;\n    }\n\n    .dataframe tbody tr th {\n        vertical-align: top;\n    }\n\n    .dataframe thead th {\n        text-align: right;\n    }\n</style>\n<table border=\"1\" class=\"dataframe\">\n  <thead>\n    <tr style=\"text-align: right;\">\n      <th></th>\n      <th>Movie_0</th>\n      <th>Movie_1</th>\n      <th>Movie_2</th>\n      <th>Movie_3</th>\n      <th>Movie_4</th>\n      <th>Movie_5</th>\n      <th>Movie_6</th>\n      <th>Movie_7</th>\n      <th>Movie_8</th>\n      <th>Movie_9</th>\n      <th>Movie_10</th>\n      <th>Movie_11</th>\n      <th>Movie_12</th>\n      <th>Movie_13</th>\n      <th>Movie_14</th>\n      <th>Movie_15</th>\n      <th>Movie_16</th>\n      <th>Movie_17</th>\n      <th>Movie_18</th>\n      <th>Movie_19</th>\n    </tr>\n    <tr>\n      <th>Users</th>\n      <th></th>\n      <th></th>\n      <th></th>\n      <th></th>\n      <th></th>\n      <th></th>\n      <th></th>\n      <th></th>\n      <th></th>\n      <th></th>\n      <th></th>\n      <th></th>\n      <th></th>\n      <th></th>\n      <th></th>\n      <th></th>\n      <th></th>\n      <th></th>\n      <th></th>\n      <th></th>\n    </tr>\n  </thead>\n  <tbody>\n    <tr>\n      <th>users_0</th>\n      <td>0</td>\n      <td>0</td>\n      <td>0</td>\n      <td>0</td>\n      <td>0</td>\n      <td>1</td>\n      <td>0</td>\n      <td>0</td>\n      <td>0</td>\n      <td>0</td>\n      <td>1</td>\n      <td>0</td>\n      <td>0</td>\n      <td>0</td>\n      <td>0</td>\n      <td>1</td>\n      <td>0</td>\n      <td>0</td>\n      <td>0</td>\n      <td>0</td>\n    </tr>\n    <tr>\n      <th>users_1</th>\n      <td>0</td>\n      <td>1</td>\n      <td>0</td>\n      <td>0</td>\n      <td>0</td>\n      <td>0</td>\n      <td>1</td>\n      <td>0</td>\n      <td>1</td>\n      <td>0</td>\n      <td>0</td>\n      <td>1</td>\n      <td>1</td>\n      <td>0</td>\n      <td>0</td>\n      <td>0</td>\n      <td>0</td>\n      <td>0</td>\n      <td>0</td>\n      <td>0</td>\n    </tr>\n    <tr>\n      <th>users_2</th>\n      <td>1</td>\n      <td>1</td>\n      <td>0</td>\n      <td>1</td>\n      <td>1</td>\n      <td>0</td>\n      <td>0</td>\n      <td>0</td>\n      <td>0</td>\n      <td>1</td>\n      <td>0</td>\n      <td>0</td>\n      <td>1</td>\n      <td>0</td>\n      <td>0</td>\n      <td>1</td>\n      <td>0</td>\n      <td>0</td>\n      <td>0</td>\n      <td>0</td>\n    </tr>\n    <tr>\n      <th>users_3</th>\n      <td>0</td>\n      <td>0</td>\n      <td>0</td>\n      <td>0</td>\n      <td>0</td>\n      <td>1</td>\n      <td>0</td>\n      <td>0</td>\n      <td>0</td>\n      <td>0</td>\n      <td>0</td>\n      <td>0</td>\n      <td>0</td>\n      <td>0</td>\n      <td>0</td>\n      <td>0</td>\n      <td>0</td>\n      <td>0</td>\n      <td>0</td>\n      <td>0</td>\n    </tr>\n    <tr>\n      <th>users_4</th>\n      <td>1</td>\n      <td>0</td>\n      <td>0</td>\n      <td>0</td>\n      <td>0</td>\n      <td>0</td>\n      <td>1</td>\n      <td>0</td>\n      <td>1</td>\n      <td>0</td>\n      <td>1</td>\n      <td>0</td>\n      <td>0</td>\n      <td>0</td>\n      <td>1</td>\n      <td>1</td>\n      <td>0</td>\n      <td>0</td>\n      <td>0</td>\n      <td>0</td>\n    </tr>\n    <tr>\n      <th>users_5</th>\n      <td>0</td>\n      <td>1</td>\n      <td>0</td>\n      <td>0</td>\n      <td>0</td>\n      <td>0</td>\n      <td>1</td>\n      <td>0</td>\n      <td>0</td>\n      <td>0</td>\n      <td>0</td>\n      <td>1</td>\n      <td>1</td>\n      <td>0</td>\n      <td>0</td>\n      <td>0</td>\n      <td>1</td>\n      <td>0</td>\n      <td>0</td>\n      <td>0</td>\n    </tr>\n    <tr>\n      <th>users_6</th>\n      <td>0</td>\n      <td>0</td>\n      <td>0</td>\n      <td>1</td>\n      <td>0</td>\n      <td>0</td>\n      <td>0</td>\n      <td>0</td>\n      <td>0</td>\n      <td>0</td>\n      <td>0</td>\n      <td>1</td>\n      <td>0</td>\n      <td>0</td>\n      <td>0</td>\n      <td>1</td>\n      <td>0</td>\n      <td>0</td>\n      <td>0</td>\n      <td>0</td>\n    </tr>\n    <tr>\n      <th>users_7</th>\n      <td>1</td>\n      <td>0</td>\n      <td>0</td>\n      <td>0</td>\n      <td>1</td>\n      <td>1</td>\n      <td>0</td>\n      <td>0</td>\n      <td>0</td>\n      <td>1</td>\n      <td>0</td>\n      <td>0</td>\n      <td>0</td>\n      <td>0</td>\n      <td>0</td>\n      <td>1</td>\n      <td>0</td>\n      <td>1</td>\n      <td>1</td>\n      <td>1</td>\n    </tr>\n    <tr>\n      <th>users_8</th>\n      <td>0</td>\n      <td>0</td>\n      <td>0</td>\n      <td>0</td>\n      <td>0</td>\n      <td>0</td>\n      <td>0</td>\n      <td>0</td>\n      <td>1</td>\n      <td>0</td>\n      <td>1</td>\n      <td>0</td>\n      <td>0</td>\n      <td>0</td>\n      <td>0</td>\n      <td>0</td>\n      <td>0</td>\n      <td>0</td>\n      <td>1</td>\n      <td>0</td>\n    </tr>\n    <tr>\n      <th>users_9</th>\n      <td>0</td>\n      <td>0</td>\n      <td>0</td>\n      <td>0</td>\n      <td>0</td>\n      <td>0</td>\n      <td>1</td>\n      <td>0</td>\n      <td>0</td>\n      <td>1</td>\n      <td>0</td>\n      <td>1</td>\n      <td>0</td>\n      <td>0</td>\n      <td>0</td>\n      <td>1</td>\n      <td>0</td>\n      <td>0</td>\n      <td>1</td>\n      <td>0</td>\n    </tr>\n    <tr>\n      <th>users_10</th>\n      <td>0</td>\n      <td>0</td>\n      <td>0</td>\n      <td>0</td>\n      <td>0</td>\n      <td>0</td>\n      <td>0</td>\n      <td>0</td>\n      <td>0</td>\n      <td>0</td>\n      <td>0</td>\n      <td>0</td>\n      <td>0</td>\n      <td>0</td>\n      <td>1</td>\n      <td>0</td>\n      <td>0</td>\n      <td>0</td>\n      <td>0</td>\n      <td>0</td>\n    </tr>\n    <tr>\n      <th>users_11</th>\n      <td>1</td>\n      <td>0</td>\n      <td>0</td>\n      <td>0</td>\n      <td>0</td>\n      <td>0</td>\n      <td>0</td>\n      <td>0</td>\n      <td>1</td>\n      <td>0</td>\n      <td>0</td>\n      <td>1</td>\n      <td>0</td>\n      <td>0</td>\n      <td>0</td>\n      <td>0</td>\n      <td>1</td>\n      <td>0</td>\n      <td>0</td>\n      <td>1</td>\n    </tr>\n    <tr>\n      <th>users_12</th>\n      <td>0</td>\n      <td>0</td>\n      <td>1</td>\n      <td>0</td>\n      <td>0</td>\n      <td>0</td>\n      <td>0</td>\n      <td>0</td>\n      <td>0</td>\n      <td>0</td>\n      <td>0</td>\n      <td>1</td>\n      <td>0</td>\n      <td>0</td>\n      <td>0</td>\n      <td>0</td>\n      <td>0</td>\n      <td>1</td>\n      <td>0</td>\n      <td>1</td>\n    </tr>\n    <tr>\n      <th>users_13</th>\n      <td>0</td>\n      <td>0</td>\n      <td>0</td>\n      <td>0</td>\n      <td>0</td>\n      <td>0</td>\n      <td>1</td>\n      <td>0</td>\n      <td>1</td>\n      <td>0</td>\n      <td>1</td>\n      <td>1</td>\n      <td>0</td>\n      <td>1</td>\n      <td>0</td>\n      <td>0</td>\n      <td>0</td>\n      <td>0</td>\n      <td>1</td>\n      <td>0</td>\n    </tr>\n    <tr>\n      <th>users_14</th>\n      <td>0</td>\n      <td>0</td>\n      <td>0</td>\n      <td>0</td>\n      <td>1</td>\n      <td>1</td>\n      <td>1</td>\n      <td>1</td>\n      <td>1</td>\n      <td>0</td>\n      <td>0</td>\n      <td>1</td>\n      <td>0</td>\n      <td>0</td>\n      <td>0</td>\n      <td>0</td>\n      <td>0</td>\n      <td>1</td>\n      <td>0</td>\n      <td>0</td>\n    </tr>\n    <tr>\n      <th>users_15</th>\n      <td>0</td>\n      <td>0</td>\n      <td>0</td>\n      <td>0</td>\n      <td>0</td>\n      <td>0</td>\n      <td>1</td>\n      <td>1</td>\n      <td>0</td>\n      <td>0</td>\n      <td>0</td>\n      <td>0</td>\n      <td>0</td>\n      <td>0</td>\n      <td>0</td>\n      <td>0</td>\n      <td>0</td>\n      <td>1</td>\n      <td>1</td>\n      <td>1</td>\n    </tr>\n    <tr>\n      <th>users_16</th>\n      <td>0</td>\n      <td>1</td>\n      <td>0</td>\n      <td>0</td>\n      <td>0</td>\n      <td>1</td>\n      <td>0</td>\n      <td>0</td>\n      <td>0</td>\n      <td>0</td>\n      <td>0</td>\n      <td>0</td>\n      <td>0</td>\n      <td>0</td>\n      <td>1</td>\n      <td>0</td>\n      <td>0</td>\n      <td>1</td>\n      <td>1</td>\n      <td>0</td>\n    </tr>\n    <tr>\n      <th>users_17</th>\n      <td>0</td>\n      <td>0</td>\n      <td>0</td>\n      <td>0</td>\n      <td>1</td>\n      <td>0</td>\n      <td>1</td>\n      <td>0</td>\n      <td>1</td>\n      <td>0</td>\n      <td>0</td>\n      <td>1</td>\n      <td>1</td>\n      <td>0</td>\n      <td>1</td>\n      <td>1</td>\n      <td>0</td>\n      <td>0</td>\n      <td>0</td>\n      <td>0</td>\n    </tr>\n    <tr>\n      <th>users_18</th>\n      <td>0</td>\n      <td>0</td>\n      <td>0</td>\n      <td>0</td>\n      <td>0</td>\n      <td>0</td>\n      <td>0</td>\n      <td>1</td>\n      <td>0</td>\n      <td>0</td>\n      <td>0</td>\n      <td>1</td>\n      <td>0</td>\n      <td>1</td>\n      <td>0</td>\n      <td>1</td>\n      <td>1</td>\n      <td>0</td>\n      <td>0</td>\n      <td>0</td>\n    </tr>\n    <tr>\n      <th>users_19</th>\n      <td>0</td>\n      <td>1</td>\n      <td>0</td>\n      <td>0</td>\n      <td>1</td>\n      <td>1</td>\n      <td>0</td>\n      <td>1</td>\n      <td>0</td>\n      <td>0</td>\n      <td>1</td>\n      <td>0</td>\n      <td>0</td>\n      <td>0</td>\n      <td>1</td>\n      <td>0</td>\n      <td>0</td>\n      <td>0</td>\n      <td>0</td>\n      <td>0</td>\n    </tr>\n  </tbody>\n</table>\n</div>"
     },
     "metadata": {},
     "execution_count": 291
    }
   ],
   "source": [
    "df = pd.DataFrame(data).set_index(\"Users\")\n",
    "df.head(20)"
   ]
  },
  {
   "cell_type": "code",
   "execution_count": 281,
   "metadata": {},
   "outputs": [
    {
     "output_type": "stream",
     "name": "stdout",
     "text": [
      "          Movie_0  Movie_1  Movie_2  Movie_3  Movie_4  Movie_5  Movie_6  \\\nUsers                                                                     \nusers_2         1        1        0        1        1        0        0   \nusers_4         1        0        0        0        0        0        1   \nusers_7         1        0        0        0        1        1        0   \nusers_11        1        0        0        0        0        0        0   \n\n          Movie_7  Movie_8  Movie_9  Movie_10  Movie_11  Movie_12  Movie_13  \\\nUsers                                                                         \nusers_2         0        0        1         0         0         1         0   \nusers_4         0        1        0         1         0         0         0   \nusers_7         0        0        1         0         0         0         0   \nusers_11        0        1        0         0         1         0         0   \n\n          Movie_14  Movie_15  Movie_16  Movie_17  Movie_18  Movie_19  \nUsers                                                                 \nusers_2          0         1         0         0         0         0  \nusers_4          1         1         0         0         0         0  \nusers_7          0         1         0         1         1         1  \nusers_11         0         0         1         0         0         1  \n"
     ]
    }
   ],
   "source": [
    "print(df.loc[df[\"Movie_0\"] == 1])"
   ]
  },
  {
   "cell_type": "code",
   "execution_count": 282,
   "metadata": {},
   "outputs": [
    {
     "output_type": "execute_result",
     "data": {
      "text/plain": [
       "0.125"
      ]
     },
     "metadata": {},
     "execution_count": 282
    }
   ],
   "source": [
    "jaccard_score(df[\"Movie_0\"], df[\"Movie_1\"])"
   ]
  },
  {
   "cell_type": "code",
   "execution_count": 340,
   "metadata": {},
   "outputs": [
    {
     "output_type": "stream",
     "name": "stdout",
     "text": [
      "{'Movie_0': 0.125, 'Movie_1': 0.125, 'Movie_2': 0.0, 'Movie_3': 0.16666666666666666, 'Movie_4': 0.25, 'Movie_5': 0.2222222222222222, 'Movie_6': 0.18181818181818182, 'Movie_7': 0.125, 'Movie_8': 0.09090909090909091, 'Movie_9': 0.14285714285714285, 'Movie_10': 0.1111111111111111, 'Movie_11': 0.15384615384615385, 'Movie_12': 0.5, 'Movie_13': 0.0, 'Movie_14': 0.25, 'Movie_15': 0.08333333333333333, 'Movie_16': 0.14285714285714285, 'Movie_17': 0.1111111111111111, 'Movie_18': 0.1, 'Movie_19': 0.0}\nEL suario Movie_12 es el mas parecido al suario Movie_1 con un parecido de 0.5\n"
     ]
    }
   ],
   "source": [
    "D_similitud = {}\n",
    "Mayor_Simulitud = 0\n",
    "D_Mayor = {}\n",
    "Movie = \"Movie_1\"\n",
    "for value in df.columns.values:\n",
    "    if (value == Movie) is False:\n",
    "        similitud = jaccard_score(df[value], df[Movie])\n",
    "        if similitud > Mayor_Simulitud:\n",
    "            Mayor_Simulitud = similitud\n",
    "            name = value\n",
    "        \n",
    "    D_similitud[value] = similitud\n",
    "print(D_similitud)\n",
    "print(\"EL suario {} es el mas parecido al suario {} con un parecido de {}\".format(Movie, name, Mayor_Simulitud))"
   ]
  },
  {
   "cell_type": "code",
   "execution_count": null,
   "metadata": {},
   "outputs": [],
   "source": []
  }
 ],
 "metadata": {
  "kernelspec": {
   "name": "python385jvsc74a57bd065c7b65fc82b448c8011f99bd8f98831e7bc5c92a479ce3bfe18c36b701290fd",
   "display_name": "Python 3.8.5 64-bit ('base': conda)"
  },
  "language_info": {
   "codemirror_mode": {
    "name": "ipython",
    "version": 3
   },
   "file_extension": ".py",
   "mimetype": "text/x-python",
   "name": "python",
   "nbconvert_exporter": "python",
   "pygments_lexer": "ipython3",
   "version": "3.8.5"
  }
 },
 "nbformat": 4,
 "nbformat_minor": 4
}