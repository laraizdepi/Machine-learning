{
 "cells": [
  {
   "cell_type": "code",
   "execution_count": 11,
   "metadata": {},
   "outputs": [],
   "source": [
    "import pandas as pd \n",
    "import numpy as np\n",
    "import matplotlib as plt\n",
    "import random\n",
    "from sklearn.metrics import jaccard_score\n",
    "random.seed(2021)"
   ]
  },
  {
   "cell_type": "code",
   "execution_count": 12,
   "metadata": {},
   "outputs": [],
   "source": [
    "#contants\n",
    "data= {}\n",
    "movies_list = []\n",
    "users = []\n",
    "movies = []\n",
    "\n",
    "#THE USER BOUGHT YES OR NOT WITH YES AS 1 AND NO AS 0\n",
    "purchase = [0, 0, 0, 1]\n",
    "\n",
    "for i in range(20):\n",
    "    YesOrNot = []\n",
    "\n",
    "    #generating the variables\n",
    "    globals()['user_{}'.format(i)] = YesOrNot\n",
    "    globals()['movies_{}'.format(i)] = []\n",
    "\n",
    "    data['Movie_{}'.format(i)] = globals()['user_{}'.format(i)]\n",
    "\n",
    "    #List of othe movies and the users\n",
    "    users.append('users_{}'.format(i))\n",
    "    movies.append('movies_{}'.format(i))\n",
    "\n",
    "    #assig each one variable to a list with N random elements \n",
    "    for i in range(20):\n",
    "        value = random.choice(purchase)\n",
    "        YesOrNot.append(value)\n",
    "data[\"Users\"] = users\n",
    "\n"
   ]
  },
  {
   "cell_type": "code",
   "execution_count": 13,
   "metadata": {},
   "outputs": [
    {
     "output_type": "execute_result",
     "data": {
      "text/plain": [
       "          Movie_0  Movie_1  Movie_2  Movie_3  Movie_4  Movie_5  Movie_6  \\\n",
       "Users                                                                     \n",
       "users_0         1        0        0        1        1        0        1   \n",
       "users_1         0        1        0        0        0        1        0   \n",
       "users_2         0        0        0        1        0        1        0   \n",
       "users_3         0        0        0        0        0        0        0   \n",
       "users_4         1        0        0        1        0        0        0   \n",
       "users_5         1        1        1        0        0        0        0   \n",
       "users_6         0        0        1        0        0        0        0   \n",
       "users_7         0        0        0        0        0        0        0   \n",
       "users_8         0        0        0        0        0        0        0   \n",
       "users_9         0        1        0        1        0        1        0   \n",
       "users_10        1        1        0        0        0        0        0   \n",
       "users_11        0        1        0        0        0        1        0   \n",
       "users_12        0        0        0        0        0        0        0   \n",
       "users_13        0        0        0        0        1        0        0   \n",
       "users_14        0        1        1        0        0        0        0   \n",
       "users_15        0        1        0        1        0        0        0   \n",
       "users_16        0        0        0        0        0        0        1   \n",
       "users_17        0        0        1        0        0        0        0   \n",
       "users_18        1        0        1        0        1        1        0   \n",
       "users_19        0        0        0        0        0        0        0   \n",
       "\n",
       "          Movie_7  Movie_8  Movie_9  Movie_10  Movie_11  Movie_12  Movie_13  \\\n",
       "Users                                                                         \n",
       "users_0         1        1        0         0         1         0         0   \n",
       "users_1         1        1        0         0         0         0         0   \n",
       "users_2         0        0        1         0         0         0         0   \n",
       "users_3         0        1        0         1         0         0         0   \n",
       "users_4         0        1        0         0         0         0         0   \n",
       "users_5         0        0        1         1         1         1         0   \n",
       "users_6         1        0        0         0         0         1         0   \n",
       "users_7         0        1        0         0         1         0         0   \n",
       "users_8         0        0        0         0         1         0         0   \n",
       "users_9         0        0        0         0         0         1         0   \n",
       "users_10        0        0        0         0         1         0         0   \n",
       "users_11        1        0        1         0         0         0         0   \n",
       "users_12        0        0        0         0         0         1         1   \n",
       "users_13        0        0        1         1         0         0         0   \n",
       "users_14        0        0        1         0         0         0         0   \n",
       "users_15        0        0        0         1         0         1         1   \n",
       "users_16        1        0        0         0         0         1         1   \n",
       "users_17        1        1        0         0         0         0         0   \n",
       "users_18        0        0        0         0         0         0         0   \n",
       "users_19        1        0        0         1         0         0         0   \n",
       "\n",
       "          Movie_14  Movie_15  Movie_16  Movie_17  Movie_18  Movie_19  \n",
       "Users                                                                 \n",
       "users_0          0         1         0         0         0         1  \n",
       "users_1          0         0         1         0         0         0  \n",
       "users_2          0         0         0         0         0         1  \n",
       "users_3          0         0         0         0         0         0  \n",
       "users_4          0         0         0         0         0         0  \n",
       "users_5          1         1         1         0         1         1  \n",
       "users_6          0         1         0         0         0         1  \n",
       "users_7          0         0         0         0         1         0  \n",
       "users_8          0         0         0         0         1         0  \n",
       "users_9          0         0         0         1         0         0  \n",
       "users_10         0         1         0         0         0         0  \n",
       "users_11         0         0         0         1         0         1  \n",
       "users_12         0         0         0         1         0         0  \n",
       "users_13         1         1         0         0         0         0  \n",
       "users_14         0         0         1         0         0         0  \n",
       "users_15         1         1         1         0         1         0  \n",
       "users_16         1         1         0         1         0         0  \n",
       "users_17         0         1         1         0         0         0  \n",
       "users_18         0         0         0         0         1         0  \n",
       "users_19         0         1         1         0         1         1  "
      ],
      "text/html": "<div>\n<style scoped>\n    .dataframe tbody tr th:only-of-type {\n        vertical-align: middle;\n    }\n\n    .dataframe tbody tr th {\n        vertical-align: top;\n    }\n\n    .dataframe thead th {\n        text-align: right;\n    }\n</style>\n<table border=\"1\" class=\"dataframe\">\n  <thead>\n    <tr style=\"text-align: right;\">\n      <th></th>\n      <th>Movie_0</th>\n      <th>Movie_1</th>\n      <th>Movie_2</th>\n      <th>Movie_3</th>\n      <th>Movie_4</th>\n      <th>Movie_5</th>\n      <th>Movie_6</th>\n      <th>Movie_7</th>\n      <th>Movie_8</th>\n      <th>Movie_9</th>\n      <th>Movie_10</th>\n      <th>Movie_11</th>\n      <th>Movie_12</th>\n      <th>Movie_13</th>\n      <th>Movie_14</th>\n      <th>Movie_15</th>\n      <th>Movie_16</th>\n      <th>Movie_17</th>\n      <th>Movie_18</th>\n      <th>Movie_19</th>\n    </tr>\n    <tr>\n      <th>Users</th>\n      <th></th>\n      <th></th>\n      <th></th>\n      <th></th>\n      <th></th>\n      <th></th>\n      <th></th>\n      <th></th>\n      <th></th>\n      <th></th>\n      <th></th>\n      <th></th>\n      <th></th>\n      <th></th>\n      <th></th>\n      <th></th>\n      <th></th>\n      <th></th>\n      <th></th>\n      <th></th>\n    </tr>\n  </thead>\n  <tbody>\n    <tr>\n      <th>users_0</th>\n      <td>1</td>\n      <td>0</td>\n      <td>0</td>\n      <td>1</td>\n      <td>1</td>\n      <td>0</td>\n      <td>1</td>\n      <td>1</td>\n      <td>1</td>\n      <td>0</td>\n      <td>0</td>\n      <td>1</td>\n      <td>0</td>\n      <td>0</td>\n      <td>0</td>\n      <td>1</td>\n      <td>0</td>\n      <td>0</td>\n      <td>0</td>\n      <td>1</td>\n    </tr>\n    <tr>\n      <th>users_1</th>\n      <td>0</td>\n      <td>1</td>\n      <td>0</td>\n      <td>0</td>\n      <td>0</td>\n      <td>1</td>\n      <td>0</td>\n      <td>1</td>\n      <td>1</td>\n      <td>0</td>\n      <td>0</td>\n      <td>0</td>\n      <td>0</td>\n      <td>0</td>\n      <td>0</td>\n      <td>0</td>\n      <td>1</td>\n      <td>0</td>\n      <td>0</td>\n      <td>0</td>\n    </tr>\n    <tr>\n      <th>users_2</th>\n      <td>0</td>\n      <td>0</td>\n      <td>0</td>\n      <td>1</td>\n      <td>0</td>\n      <td>1</td>\n      <td>0</td>\n      <td>0</td>\n      <td>0</td>\n      <td>1</td>\n      <td>0</td>\n      <td>0</td>\n      <td>0</td>\n      <td>0</td>\n      <td>0</td>\n      <td>0</td>\n      <td>0</td>\n      <td>0</td>\n      <td>0</td>\n      <td>1</td>\n    </tr>\n    <tr>\n      <th>users_3</th>\n      <td>0</td>\n      <td>0</td>\n      <td>0</td>\n      <td>0</td>\n      <td>0</td>\n      <td>0</td>\n      <td>0</td>\n      <td>0</td>\n      <td>1</td>\n      <td>0</td>\n      <td>1</td>\n      <td>0</td>\n      <td>0</td>\n      <td>0</td>\n      <td>0</td>\n      <td>0</td>\n      <td>0</td>\n      <td>0</td>\n      <td>0</td>\n      <td>0</td>\n    </tr>\n    <tr>\n      <th>users_4</th>\n      <td>1</td>\n      <td>0</td>\n      <td>0</td>\n      <td>1</td>\n      <td>0</td>\n      <td>0</td>\n      <td>0</td>\n      <td>0</td>\n      <td>1</td>\n      <td>0</td>\n      <td>0</td>\n      <td>0</td>\n      <td>0</td>\n      <td>0</td>\n      <td>0</td>\n      <td>0</td>\n      <td>0</td>\n      <td>0</td>\n      <td>0</td>\n      <td>0</td>\n    </tr>\n    <tr>\n      <th>users_5</th>\n      <td>1</td>\n      <td>1</td>\n      <td>1</td>\n      <td>0</td>\n      <td>0</td>\n      <td>0</td>\n      <td>0</td>\n      <td>0</td>\n      <td>0</td>\n      <td>1</td>\n      <td>1</td>\n      <td>1</td>\n      <td>1</td>\n      <td>0</td>\n      <td>1</td>\n      <td>1</td>\n      <td>1</td>\n      <td>0</td>\n      <td>1</td>\n      <td>1</td>\n    </tr>\n    <tr>\n      <th>users_6</th>\n      <td>0</td>\n      <td>0</td>\n      <td>1</td>\n      <td>0</td>\n      <td>0</td>\n      <td>0</td>\n      <td>0</td>\n      <td>1</td>\n      <td>0</td>\n      <td>0</td>\n      <td>0</td>\n      <td>0</td>\n      <td>1</td>\n      <td>0</td>\n      <td>0</td>\n      <td>1</td>\n      <td>0</td>\n      <td>0</td>\n      <td>0</td>\n      <td>1</td>\n    </tr>\n    <tr>\n      <th>users_7</th>\n      <td>0</td>\n      <td>0</td>\n      <td>0</td>\n      <td>0</td>\n      <td>0</td>\n      <td>0</td>\n      <td>0</td>\n      <td>0</td>\n      <td>1</td>\n      <td>0</td>\n      <td>0</td>\n      <td>1</td>\n      <td>0</td>\n      <td>0</td>\n      <td>0</td>\n      <td>0</td>\n      <td>0</td>\n      <td>0</td>\n      <td>1</td>\n      <td>0</td>\n    </tr>\n    <tr>\n      <th>users_8</th>\n      <td>0</td>\n      <td>0</td>\n      <td>0</td>\n      <td>0</td>\n      <td>0</td>\n      <td>0</td>\n      <td>0</td>\n      <td>0</td>\n      <td>0</td>\n      <td>0</td>\n      <td>0</td>\n      <td>1</td>\n      <td>0</td>\n      <td>0</td>\n      <td>0</td>\n      <td>0</td>\n      <td>0</td>\n      <td>0</td>\n      <td>1</td>\n      <td>0</td>\n    </tr>\n    <tr>\n      <th>users_9</th>\n      <td>0</td>\n      <td>1</td>\n      <td>0</td>\n      <td>1</td>\n      <td>0</td>\n      <td>1</td>\n      <td>0</td>\n      <td>0</td>\n      <td>0</td>\n      <td>0</td>\n      <td>0</td>\n      <td>0</td>\n      <td>1</td>\n      <td>0</td>\n      <td>0</td>\n      <td>0</td>\n      <td>0</td>\n      <td>1</td>\n      <td>0</td>\n      <td>0</td>\n    </tr>\n    <tr>\n      <th>users_10</th>\n      <td>1</td>\n      <td>1</td>\n      <td>0</td>\n      <td>0</td>\n      <td>0</td>\n      <td>0</td>\n      <td>0</td>\n      <td>0</td>\n      <td>0</td>\n      <td>0</td>\n      <td>0</td>\n      <td>1</td>\n      <td>0</td>\n      <td>0</td>\n      <td>0</td>\n      <td>1</td>\n      <td>0</td>\n      <td>0</td>\n      <td>0</td>\n      <td>0</td>\n    </tr>\n    <tr>\n      <th>users_11</th>\n      <td>0</td>\n      <td>1</td>\n      <td>0</td>\n      <td>0</td>\n      <td>0</td>\n      <td>1</td>\n      <td>0</td>\n      <td>1</td>\n      <td>0</td>\n      <td>1</td>\n      <td>0</td>\n      <td>0</td>\n      <td>0</td>\n      <td>0</td>\n      <td>0</td>\n      <td>0</td>\n      <td>0</td>\n      <td>1</td>\n      <td>0</td>\n      <td>1</td>\n    </tr>\n    <tr>\n      <th>users_12</th>\n      <td>0</td>\n      <td>0</td>\n      <td>0</td>\n      <td>0</td>\n      <td>0</td>\n      <td>0</td>\n      <td>0</td>\n      <td>0</td>\n      <td>0</td>\n      <td>0</td>\n      <td>0</td>\n      <td>0</td>\n      <td>1</td>\n      <td>1</td>\n      <td>0</td>\n      <td>0</td>\n      <td>0</td>\n      <td>1</td>\n      <td>0</td>\n      <td>0</td>\n    </tr>\n    <tr>\n      <th>users_13</th>\n      <td>0</td>\n      <td>0</td>\n      <td>0</td>\n      <td>0</td>\n      <td>1</td>\n      <td>0</td>\n      <td>0</td>\n      <td>0</td>\n      <td>0</td>\n      <td>1</td>\n      <td>1</td>\n      <td>0</td>\n      <td>0</td>\n      <td>0</td>\n      <td>1</td>\n      <td>1</td>\n      <td>0</td>\n      <td>0</td>\n      <td>0</td>\n      <td>0</td>\n    </tr>\n    <tr>\n      <th>users_14</th>\n      <td>0</td>\n      <td>1</td>\n      <td>1</td>\n      <td>0</td>\n      <td>0</td>\n      <td>0</td>\n      <td>0</td>\n      <td>0</td>\n      <td>0</td>\n      <td>1</td>\n      <td>0</td>\n      <td>0</td>\n      <td>0</td>\n      <td>0</td>\n      <td>0</td>\n      <td>0</td>\n      <td>1</td>\n      <td>0</td>\n      <td>0</td>\n      <td>0</td>\n    </tr>\n    <tr>\n      <th>users_15</th>\n      <td>0</td>\n      <td>1</td>\n      <td>0</td>\n      <td>1</td>\n      <td>0</td>\n      <td>0</td>\n      <td>0</td>\n      <td>0</td>\n      <td>0</td>\n      <td>0</td>\n      <td>1</td>\n      <td>0</td>\n      <td>1</td>\n      <td>1</td>\n      <td>1</td>\n      <td>1</td>\n      <td>1</td>\n      <td>0</td>\n      <td>1</td>\n      <td>0</td>\n    </tr>\n    <tr>\n      <th>users_16</th>\n      <td>0</td>\n      <td>0</td>\n      <td>0</td>\n      <td>0</td>\n      <td>0</td>\n      <td>0</td>\n      <td>1</td>\n      <td>1</td>\n      <td>0</td>\n      <td>0</td>\n      <td>0</td>\n      <td>0</td>\n      <td>1</td>\n      <td>1</td>\n      <td>1</td>\n      <td>1</td>\n      <td>0</td>\n      <td>1</td>\n      <td>0</td>\n      <td>0</td>\n    </tr>\n    <tr>\n      <th>users_17</th>\n      <td>0</td>\n      <td>0</td>\n      <td>1</td>\n      <td>0</td>\n      <td>0</td>\n      <td>0</td>\n      <td>0</td>\n      <td>1</td>\n      <td>1</td>\n      <td>0</td>\n      <td>0</td>\n      <td>0</td>\n      <td>0</td>\n      <td>0</td>\n      <td>0</td>\n      <td>1</td>\n      <td>1</td>\n      <td>0</td>\n      <td>0</td>\n      <td>0</td>\n    </tr>\n    <tr>\n      <th>users_18</th>\n      <td>1</td>\n      <td>0</td>\n      <td>1</td>\n      <td>0</td>\n      <td>1</td>\n      <td>1</td>\n      <td>0</td>\n      <td>0</td>\n      <td>0</td>\n      <td>0</td>\n      <td>0</td>\n      <td>0</td>\n      <td>0</td>\n      <td>0</td>\n      <td>0</td>\n      <td>0</td>\n      <td>0</td>\n      <td>0</td>\n      <td>1</td>\n      <td>0</td>\n    </tr>\n    <tr>\n      <th>users_19</th>\n      <td>0</td>\n      <td>0</td>\n      <td>0</td>\n      <td>0</td>\n      <td>0</td>\n      <td>0</td>\n      <td>0</td>\n      <td>1</td>\n      <td>0</td>\n      <td>0</td>\n      <td>1</td>\n      <td>0</td>\n      <td>0</td>\n      <td>0</td>\n      <td>0</td>\n      <td>1</td>\n      <td>1</td>\n      <td>0</td>\n      <td>1</td>\n      <td>1</td>\n    </tr>\n  </tbody>\n</table>\n</div>"
     },
     "metadata": {},
     "execution_count": 13
    }
   ],
   "source": [
    "#Matrix \n",
    "\n",
    "df = pd.DataFrame(data).set_index(\"Users\")\n",
    "df.head(20)"
   ]
  },
  {
   "cell_type": "code",
   "execution_count": 14,
   "metadata": {},
   "outputs": [
    {
     "output_type": "stream",
     "name": "stdout",
     "text": [
      "1.0\n[0.25, 0.2, 1.0, 0.0, 0.14285714285714285, 0.1111111111111111, 0.0, 0.2, 0.1, 0.25, 0.1111111111111111, 0.1111111111111111, 0.2222222222222222, 0.0, 0.125, 0.2727272727272727, 0.375, 0.0, 0.2222222222222222, 0.2222222222222222]\n"
     ]
    }
   ],
   "source": [
    "dic_simi = {}\n",
    "for MOVIE in df.columns.values:\n",
    "    globals()[\"Lis_Sim_{}\".format(MOVIE)] = []\n",
    "    for movie in df.columns.values:\n",
    "        globals()[\"Similitud_{}_con_{}\".format(movie, MOVIE)] = jaccard_score(df[MOVIE], df[movie])\n",
    "        globals()[\"Lis_Sim_{}\".format(MOVIE)].append(globals()[\"Similitud_{}_con_{}\".format(movie, MOVIE)])\n",
    "        \n",
    "        \n",
    "    dic_simi[MOVIE] =  globals()[\"Lis_Sim_{}\".format(MOVIE)]\n",
    "   \n",
    "    A = globals()[\"Lis_Sim_{}\".format(MOVIE)][:]\n",
    "    A.sort()\n",
    "    globals()[\"mayorParecidoA_{}\".format(MOVIE)] = A[-2]\n",
    "    #print(\"EL suario {} es el mas parecido al suario {} con un parecido de {}\".format(MOVIE, movie, globals()[\"mayorParecidoA_{}\".format(MOVIE)]))\n",
    "\n",
    "    \n",
    "print(Similitud_Movie_12_con_Movie_12)\n",
    "print(Lis_Sim_Movie_2)\n",
    "dic_simi[\"Users\"] = movies"
   ]
  },
  {
   "cell_type": "code",
   "execution_count": null,
   "metadata": {},
   "outputs": [],
   "source": []
  },
  {
   "cell_type": "code",
   "execution_count": 15,
   "metadata": {},
   "outputs": [
    {
     "output_type": "stream",
     "name": "stdout",
     "text": [
      "0.4444444444444444\n"
     ]
    }
   ],
   "source": [
    "print(mayorParecidoA_Movie_1)"
   ]
  },
  {
   "cell_type": "code",
   "execution_count": 16,
   "metadata": {},
   "outputs": [
    {
     "output_type": "execute_result",
     "data": {
      "text/plain": [
       "           Movie_0   Movie_1   Movie_2   Movie_3   Movie_4   Movie_5  \\\n",
       "Users                                                                  \n",
       "movies_0  1.000000  0.200000  0.250000  0.250000  0.333333  0.111111   \n",
       "movies_1  0.200000  1.000000  0.200000  0.200000  0.000000  0.333333   \n",
       "movies_2  0.250000  0.200000  1.000000  0.000000  0.142857  0.111111   \n",
       "movies_3  0.250000  0.200000  0.000000  1.000000  0.142857  0.250000   \n",
       "movies_4  0.333333  0.000000  0.142857  0.142857  1.000000  0.142857   \n",
       "movies_5  0.111111  0.333333  0.111111  0.250000  0.142857  1.000000   \n",
       "movies_6  0.166667  0.000000  0.000000  0.166667  0.250000  0.000000   \n",
       "movies_7  0.090909  0.166667  0.200000  0.090909  0.111111  0.200000   \n",
       "movies_8  0.222222  0.083333  0.100000  0.222222  0.125000  0.100000   \n",
       "movies_9  0.111111  0.333333  0.250000  0.111111  0.142857  0.250000   \n",
       "\n",
       "           Movie_6   Movie_7   Movie_8   Movie_9  Movie_10  Movie_11  \\\n",
       "Users                                                                  \n",
       "movies_0  0.166667  0.090909  0.222222  0.111111  0.111111  0.428571   \n",
       "movies_1  0.000000  0.166667  0.083333  0.333333  0.200000  0.200000   \n",
       "movies_2  0.000000  0.200000  0.100000  0.250000  0.111111  0.111111   \n",
       "movies_3  0.166667  0.090909  0.222222  0.111111  0.111111  0.111111   \n",
       "movies_4  0.250000  0.111111  0.125000  0.142857  0.142857  0.142857   \n",
       "movies_5  0.000000  0.200000  0.100000  0.250000  0.000000  0.000000   \n",
       "movies_6  1.000000  0.285714  0.142857  0.000000  0.000000  0.166667   \n",
       "movies_7  0.285714  1.000000  0.300000  0.090909  0.090909  0.090909   \n",
       "movies_8  0.142857  0.300000  1.000000  0.000000  0.100000  0.222222   \n",
       "movies_9  0.000000  0.090909  0.000000  1.000000  0.250000  0.111111   \n",
       "\n",
       "          Movie_12  Movie_13  Movie_14  Movie_15  Movie_16  Movie_17  \\\n",
       "Users                                                                  \n",
       "movies_0  0.100000  0.000000  0.125000  0.272727  0.100000  0.000000   \n",
       "movies_1  0.300000  0.111111  0.222222  0.230769  0.444444  0.222222   \n",
       "movies_2  0.222222  0.000000  0.125000  0.272727  0.375000  0.000000   \n",
       "movies_3  0.222222  0.142857  0.125000  0.166667  0.100000  0.125000   \n",
       "movies_4  0.000000  0.000000  0.166667  0.200000  0.000000  0.000000   \n",
       "movies_5  0.100000  0.000000  0.000000  0.000000  0.100000  0.285714   \n",
       "movies_6  0.142857  0.250000  0.200000  0.222222  0.000000  0.200000   \n",
       "movies_7  0.181818  0.111111  0.100000  0.454545  0.300000  0.222222   \n",
       "movies_8  0.000000  0.000000  0.000000  0.153846  0.200000  0.000000   \n",
       "movies_9  0.100000  0.000000  0.285714  0.166667  0.222222  0.125000   \n",
       "\n",
       "          Movie_18  Movie_19  \n",
       "Users                         \n",
       "movies_0  0.222222  0.222222  \n",
       "movies_1  0.181818  0.181818  \n",
       "movies_2  0.222222  0.222222  \n",
       "movies_3  0.100000  0.222222  \n",
       "movies_4  0.125000  0.125000  \n",
       "movies_5  0.100000  0.222222  \n",
       "movies_6  0.000000  0.142857  \n",
       "movies_7  0.083333  0.444444  \n",
       "movies_8  0.090909  0.090909  \n",
       "movies_9  0.100000  0.375000  "
      ],
      "text/html": "<div>\n<style scoped>\n    .dataframe tbody tr th:only-of-type {\n        vertical-align: middle;\n    }\n\n    .dataframe tbody tr th {\n        vertical-align: top;\n    }\n\n    .dataframe thead th {\n        text-align: right;\n    }\n</style>\n<table border=\"1\" class=\"dataframe\">\n  <thead>\n    <tr style=\"text-align: right;\">\n      <th></th>\n      <th>Movie_0</th>\n      <th>Movie_1</th>\n      <th>Movie_2</th>\n      <th>Movie_3</th>\n      <th>Movie_4</th>\n      <th>Movie_5</th>\n      <th>Movie_6</th>\n      <th>Movie_7</th>\n      <th>Movie_8</th>\n      <th>Movie_9</th>\n      <th>Movie_10</th>\n      <th>Movie_11</th>\n      <th>Movie_12</th>\n      <th>Movie_13</th>\n      <th>Movie_14</th>\n      <th>Movie_15</th>\n      <th>Movie_16</th>\n      <th>Movie_17</th>\n      <th>Movie_18</th>\n      <th>Movie_19</th>\n    </tr>\n    <tr>\n      <th>Users</th>\n      <th></th>\n      <th></th>\n      <th></th>\n      <th></th>\n      <th></th>\n      <th></th>\n      <th></th>\n      <th></th>\n      <th></th>\n      <th></th>\n      <th></th>\n      <th></th>\n      <th></th>\n      <th></th>\n      <th></th>\n      <th></th>\n      <th></th>\n      <th></th>\n      <th></th>\n      <th></th>\n    </tr>\n  </thead>\n  <tbody>\n    <tr>\n      <th>movies_0</th>\n      <td>1.000000</td>\n      <td>0.200000</td>\n      <td>0.250000</td>\n      <td>0.250000</td>\n      <td>0.333333</td>\n      <td>0.111111</td>\n      <td>0.166667</td>\n      <td>0.090909</td>\n      <td>0.222222</td>\n      <td>0.111111</td>\n      <td>0.111111</td>\n      <td>0.428571</td>\n      <td>0.100000</td>\n      <td>0.000000</td>\n      <td>0.125000</td>\n      <td>0.272727</td>\n      <td>0.100000</td>\n      <td>0.000000</td>\n      <td>0.222222</td>\n      <td>0.222222</td>\n    </tr>\n    <tr>\n      <th>movies_1</th>\n      <td>0.200000</td>\n      <td>1.000000</td>\n      <td>0.200000</td>\n      <td>0.200000</td>\n      <td>0.000000</td>\n      <td>0.333333</td>\n      <td>0.000000</td>\n      <td>0.166667</td>\n      <td>0.083333</td>\n      <td>0.333333</td>\n      <td>0.200000</td>\n      <td>0.200000</td>\n      <td>0.300000</td>\n      <td>0.111111</td>\n      <td>0.222222</td>\n      <td>0.230769</td>\n      <td>0.444444</td>\n      <td>0.222222</td>\n      <td>0.181818</td>\n      <td>0.181818</td>\n    </tr>\n    <tr>\n      <th>movies_2</th>\n      <td>0.250000</td>\n      <td>0.200000</td>\n      <td>1.000000</td>\n      <td>0.000000</td>\n      <td>0.142857</td>\n      <td>0.111111</td>\n      <td>0.000000</td>\n      <td>0.200000</td>\n      <td>0.100000</td>\n      <td>0.250000</td>\n      <td>0.111111</td>\n      <td>0.111111</td>\n      <td>0.222222</td>\n      <td>0.000000</td>\n      <td>0.125000</td>\n      <td>0.272727</td>\n      <td>0.375000</td>\n      <td>0.000000</td>\n      <td>0.222222</td>\n      <td>0.222222</td>\n    </tr>\n    <tr>\n      <th>movies_3</th>\n      <td>0.250000</td>\n      <td>0.200000</td>\n      <td>0.000000</td>\n      <td>1.000000</td>\n      <td>0.142857</td>\n      <td>0.250000</td>\n      <td>0.166667</td>\n      <td>0.090909</td>\n      <td>0.222222</td>\n      <td>0.111111</td>\n      <td>0.111111</td>\n      <td>0.111111</td>\n      <td>0.222222</td>\n      <td>0.142857</td>\n      <td>0.125000</td>\n      <td>0.166667</td>\n      <td>0.100000</td>\n      <td>0.125000</td>\n      <td>0.100000</td>\n      <td>0.222222</td>\n    </tr>\n    <tr>\n      <th>movies_4</th>\n      <td>0.333333</td>\n      <td>0.000000</td>\n      <td>0.142857</td>\n      <td>0.142857</td>\n      <td>1.000000</td>\n      <td>0.142857</td>\n      <td>0.250000</td>\n      <td>0.111111</td>\n      <td>0.125000</td>\n      <td>0.142857</td>\n      <td>0.142857</td>\n      <td>0.142857</td>\n      <td>0.000000</td>\n      <td>0.000000</td>\n      <td>0.166667</td>\n      <td>0.200000</td>\n      <td>0.000000</td>\n      <td>0.000000</td>\n      <td>0.125000</td>\n      <td>0.125000</td>\n    </tr>\n    <tr>\n      <th>movies_5</th>\n      <td>0.111111</td>\n      <td>0.333333</td>\n      <td>0.111111</td>\n      <td>0.250000</td>\n      <td>0.142857</td>\n      <td>1.000000</td>\n      <td>0.000000</td>\n      <td>0.200000</td>\n      <td>0.100000</td>\n      <td>0.250000</td>\n      <td>0.000000</td>\n      <td>0.000000</td>\n      <td>0.100000</td>\n      <td>0.000000</td>\n      <td>0.000000</td>\n      <td>0.000000</td>\n      <td>0.100000</td>\n      <td>0.285714</td>\n      <td>0.100000</td>\n      <td>0.222222</td>\n    </tr>\n    <tr>\n      <th>movies_6</th>\n      <td>0.166667</td>\n      <td>0.000000</td>\n      <td>0.000000</td>\n      <td>0.166667</td>\n      <td>0.250000</td>\n      <td>0.000000</td>\n      <td>1.000000</td>\n      <td>0.285714</td>\n      <td>0.142857</td>\n      <td>0.000000</td>\n      <td>0.000000</td>\n      <td>0.166667</td>\n      <td>0.142857</td>\n      <td>0.250000</td>\n      <td>0.200000</td>\n      <td>0.222222</td>\n      <td>0.000000</td>\n      <td>0.200000</td>\n      <td>0.000000</td>\n      <td>0.142857</td>\n    </tr>\n    <tr>\n      <th>movies_7</th>\n      <td>0.090909</td>\n      <td>0.166667</td>\n      <td>0.200000</td>\n      <td>0.090909</td>\n      <td>0.111111</td>\n      <td>0.200000</td>\n      <td>0.285714</td>\n      <td>1.000000</td>\n      <td>0.300000</td>\n      <td>0.090909</td>\n      <td>0.090909</td>\n      <td>0.090909</td>\n      <td>0.181818</td>\n      <td>0.111111</td>\n      <td>0.100000</td>\n      <td>0.454545</td>\n      <td>0.300000</td>\n      <td>0.222222</td>\n      <td>0.083333</td>\n      <td>0.444444</td>\n    </tr>\n    <tr>\n      <th>movies_8</th>\n      <td>0.222222</td>\n      <td>0.083333</td>\n      <td>0.100000</td>\n      <td>0.222222</td>\n      <td>0.125000</td>\n      <td>0.100000</td>\n      <td>0.142857</td>\n      <td>0.300000</td>\n      <td>1.000000</td>\n      <td>0.000000</td>\n      <td>0.100000</td>\n      <td>0.222222</td>\n      <td>0.000000</td>\n      <td>0.000000</td>\n      <td>0.000000</td>\n      <td>0.153846</td>\n      <td>0.200000</td>\n      <td>0.000000</td>\n      <td>0.090909</td>\n      <td>0.090909</td>\n    </tr>\n    <tr>\n      <th>movies_9</th>\n      <td>0.111111</td>\n      <td>0.333333</td>\n      <td>0.250000</td>\n      <td>0.111111</td>\n      <td>0.142857</td>\n      <td>0.250000</td>\n      <td>0.000000</td>\n      <td>0.090909</td>\n      <td>0.000000</td>\n      <td>1.000000</td>\n      <td>0.250000</td>\n      <td>0.111111</td>\n      <td>0.100000</td>\n      <td>0.000000</td>\n      <td>0.285714</td>\n      <td>0.166667</td>\n      <td>0.222222</td>\n      <td>0.125000</td>\n      <td>0.100000</td>\n      <td>0.375000</td>\n    </tr>\n  </tbody>\n</table>\n</div>"
     },
     "metadata": {},
     "execution_count": 16
    }
   ],
   "source": [
    "df2 = pd.DataFrame(dic_simi).set_index(\"Users\")\n",
    "df2.head(10)"
   ]
  },
  {
   "cell_type": "code",
   "execution_count": 97,
   "metadata": {},
   "outputs": [],
   "source": [
    " def similitudEntreUsuarios(Movie):\n",
    "    D_similitud = {}\n",
    "    Mayor_Simulitud = 0\n",
    "    D_Mayor = {}\n",
    "    #Movie = \"Movie_1\"\n",
    "    for value in df.columns.values:\n",
    "        if (value == Movie) is False:\n",
    "            similitud = jaccard_score(df[value], df[Movie])\n",
    "            if similitud > Mayor_Simulitud:\n",
    "                Mayor_Simulitud = similitud\n",
    "                name = value\n",
    "            \n",
    "        D_similitud[value] = similitud\n",
    "    #print(D_similitud)\n",
    "    print(\"EL suario {} es el mas parecido al suario {} con un parecido de {}\".format(Movie, name, Mayor_Simulitud))"
   ]
  },
  {
   "cell_type": "code",
   "execution_count": 98,
   "metadata": {},
   "outputs": [
    {
     "output_type": "stream",
     "name": "stdout",
     "text": [
      "EL suario Movie_1 es el mas parecido al suario Movie_16 con un parecido de 0.4444444444444444\n"
     ]
    }
   ],
   "source": [
    "similitudEntreUsuarios(\"Movie_1\")"
   ]
  },
  {
   "cell_type": "code",
   "execution_count": 20,
   "metadata": {},
   "outputs": [
    {
     "output_type": "execute_result",
     "data": {
      "text/plain": [
       "           movies_0  movies_1  movies_2  movies_3  movies_4  movies_5  \\\n",
       "movies_0          0         2         2         2         2         1   \n",
       "movies_1          2         0         2         2         0         3   \n",
       "movies_2          2         2         0         0         1         1   \n",
       "movies_3          2         2         0         0         1         2   \n",
       "movies_4          2         0         1         1         0         1   \n",
       "movies_5          1         3         1         2         1         0   \n",
       "movies_6          1         0         0         1         1         0   \n",
       "movies_7          1         2         2         1         1         2   \n",
       "movies_8          2         1         1         2         1         1   \n",
       "movies_9          1         3         2         1         1         2   \n",
       "movies_10         1         2         1         1         1         0   \n",
       "movies_11         3         2         1         1         1         0   \n",
       "movies_12         1         3         2         2         0         1   \n",
       "movies_13         0         1         0         1         0         0   \n",
       "movies_14         1         2         1         1         1         0   \n",
       "movies_15         3         3         3         2         2         0   \n",
       "movies_16         1         4         3         1         0         1   \n",
       "movies_17         0         2         0         1         0         2   \n",
       "movies_18         2         2         2         1         1         1   \n",
       "movies_19         2         2         2         2         1         2   \n",
       "\n",
       "           movies_6  movies_7  movies_8  movies_9  movies_10  movies_11  \\\n",
       "movies_0          1         1         2         1          1          3   \n",
       "movies_1          0         2         1         3          2          2   \n",
       "movies_2          0         2         1         2          1          1   \n",
       "movies_3          1         1         2         1          1          1   \n",
       "movies_4          1         1         1         1          1          1   \n",
       "movies_5          0         2         1         2          0          0   \n",
       "movies_6          0         2         1         0          0          1   \n",
       "movies_7          2         0         3         1          1          1   \n",
       "movies_8          1         3         0         0          1          2   \n",
       "movies_9          0         1         0         0          2          1   \n",
       "movies_10         0         1         1         2          0          1   \n",
       "movies_11         1         1         2         1          1          0   \n",
       "movies_12         1         2         0         1          2          1   \n",
       "movies_13         1         1         0         0          1          0   \n",
       "movies_14         1         1         0         2          3          1   \n",
       "movies_15         2         5         2         2          4          3   \n",
       "movies_16         0         3         2         2          3          1   \n",
       "movies_17         1         2         0         1          0          0   \n",
       "movies_18         0         1         1         1          3          3   \n",
       "movies_19         1         4         1         3          2          2   \n",
       "\n",
       "           movies_12  movies_13  movies_14  movies_15  movies_16  movies_17  \\\n",
       "movies_0           1          0          1          3          1          0   \n",
       "movies_1           3          1          2          3          4          2   \n",
       "movies_2           2          0          1          3          3          0   \n",
       "movies_3           2          1          1          2          1          1   \n",
       "movies_4           0          0          1          2          0          0   \n",
       "movies_5           1          0          0          0          1          2   \n",
       "movies_6           1          1          1          2          0          1   \n",
       "movies_7           2          1          1          5          3          2   \n",
       "movies_8           0          0          0          2          2          0   \n",
       "movies_9           1          0          2          2          2          1   \n",
       "movies_10          2          1          3          4          3          0   \n",
       "movies_11          1          0          1          3          1          0   \n",
       "movies_12          0          3          3          4          2          3   \n",
       "movies_13          3          0          2          2          1          2   \n",
       "movies_14          3          2          0          4          2          1   \n",
       "movies_15          4          2          4          0          4          1   \n",
       "movies_16          2          1          2          4          0          0   \n",
       "movies_17          3          2          1          1          0          0   \n",
       "movies_18          2          1          2          3          3          0   \n",
       "movies_19          2          0          1          4          2          1   \n",
       "\n",
       "           movies_18  movies_19  \n",
       "movies_0           2          2  \n",
       "movies_1           2          2  \n",
       "movies_2           2          2  \n",
       "movies_3           1          2  \n",
       "movies_4           1          1  \n",
       "movies_5           1          2  \n",
       "movies_6           0          1  \n",
       "movies_7           1          4  \n",
       "movies_8           1          1  \n",
       "movies_9           1          3  \n",
       "movies_10          3          2  \n",
       "movies_11          3          2  \n",
       "movies_12          2          2  \n",
       "movies_13          1          0  \n",
       "movies_14          2          1  \n",
       "movies_15          3          4  \n",
       "movies_16          3          2  \n",
       "movies_17          0          1  \n",
       "movies_18          0          2  \n",
       "movies_19          2          0  "
      ],
      "text/html": "<div>\n<style scoped>\n    .dataframe tbody tr th:only-of-type {\n        vertical-align: middle;\n    }\n\n    .dataframe tbody tr th {\n        vertical-align: top;\n    }\n\n    .dataframe thead th {\n        text-align: right;\n    }\n</style>\n<table border=\"1\" class=\"dataframe\">\n  <thead>\n    <tr style=\"text-align: right;\">\n      <th></th>\n      <th>movies_0</th>\n      <th>movies_1</th>\n      <th>movies_2</th>\n      <th>movies_3</th>\n      <th>movies_4</th>\n      <th>movies_5</th>\n      <th>movies_6</th>\n      <th>movies_7</th>\n      <th>movies_8</th>\n      <th>movies_9</th>\n      <th>movies_10</th>\n      <th>movies_11</th>\n      <th>movies_12</th>\n      <th>movies_13</th>\n      <th>movies_14</th>\n      <th>movies_15</th>\n      <th>movies_16</th>\n      <th>movies_17</th>\n      <th>movies_18</th>\n      <th>movies_19</th>\n    </tr>\n  </thead>\n  <tbody>\n    <tr>\n      <th>movies_0</th>\n      <td>0</td>\n      <td>2</td>\n      <td>2</td>\n      <td>2</td>\n      <td>2</td>\n      <td>1</td>\n      <td>1</td>\n      <td>1</td>\n      <td>2</td>\n      <td>1</td>\n      <td>1</td>\n      <td>3</td>\n      <td>1</td>\n      <td>0</td>\n      <td>1</td>\n      <td>3</td>\n      <td>1</td>\n      <td>0</td>\n      <td>2</td>\n      <td>2</td>\n    </tr>\n    <tr>\n      <th>movies_1</th>\n      <td>2</td>\n      <td>0</td>\n      <td>2</td>\n      <td>2</td>\n      <td>0</td>\n      <td>3</td>\n      <td>0</td>\n      <td>2</td>\n      <td>1</td>\n      <td>3</td>\n      <td>2</td>\n      <td>2</td>\n      <td>3</td>\n      <td>1</td>\n      <td>2</td>\n      <td>3</td>\n      <td>4</td>\n      <td>2</td>\n      <td>2</td>\n      <td>2</td>\n    </tr>\n    <tr>\n      <th>movies_2</th>\n      <td>2</td>\n      <td>2</td>\n      <td>0</td>\n      <td>0</td>\n      <td>1</td>\n      <td>1</td>\n      <td>0</td>\n      <td>2</td>\n      <td>1</td>\n      <td>2</td>\n      <td>1</td>\n      <td>1</td>\n      <td>2</td>\n      <td>0</td>\n      <td>1</td>\n      <td>3</td>\n      <td>3</td>\n      <td>0</td>\n      <td>2</td>\n      <td>2</td>\n    </tr>\n    <tr>\n      <th>movies_3</th>\n      <td>2</td>\n      <td>2</td>\n      <td>0</td>\n      <td>0</td>\n      <td>1</td>\n      <td>2</td>\n      <td>1</td>\n      <td>1</td>\n      <td>2</td>\n      <td>1</td>\n      <td>1</td>\n      <td>1</td>\n      <td>2</td>\n      <td>1</td>\n      <td>1</td>\n      <td>2</td>\n      <td>1</td>\n      <td>1</td>\n      <td>1</td>\n      <td>2</td>\n    </tr>\n    <tr>\n      <th>movies_4</th>\n      <td>2</td>\n      <td>0</td>\n      <td>1</td>\n      <td>1</td>\n      <td>0</td>\n      <td>1</td>\n      <td>1</td>\n      <td>1</td>\n      <td>1</td>\n      <td>1</td>\n      <td>1</td>\n      <td>1</td>\n      <td>0</td>\n      <td>0</td>\n      <td>1</td>\n      <td>2</td>\n      <td>0</td>\n      <td>0</td>\n      <td>1</td>\n      <td>1</td>\n    </tr>\n    <tr>\n      <th>movies_5</th>\n      <td>1</td>\n      <td>3</td>\n      <td>1</td>\n      <td>2</td>\n      <td>1</td>\n      <td>0</td>\n      <td>0</td>\n      <td>2</td>\n      <td>1</td>\n      <td>2</td>\n      <td>0</td>\n      <td>0</td>\n      <td>1</td>\n      <td>0</td>\n      <td>0</td>\n      <td>0</td>\n      <td>1</td>\n      <td>2</td>\n      <td>1</td>\n      <td>2</td>\n    </tr>\n    <tr>\n      <th>movies_6</th>\n      <td>1</td>\n      <td>0</td>\n      <td>0</td>\n      <td>1</td>\n      <td>1</td>\n      <td>0</td>\n      <td>0</td>\n      <td>2</td>\n      <td>1</td>\n      <td>0</td>\n      <td>0</td>\n      <td>1</td>\n      <td>1</td>\n      <td>1</td>\n      <td>1</td>\n      <td>2</td>\n      <td>0</td>\n      <td>1</td>\n      <td>0</td>\n      <td>1</td>\n    </tr>\n    <tr>\n      <th>movies_7</th>\n      <td>1</td>\n      <td>2</td>\n      <td>2</td>\n      <td>1</td>\n      <td>1</td>\n      <td>2</td>\n      <td>2</td>\n      <td>0</td>\n      <td>3</td>\n      <td>1</td>\n      <td>1</td>\n      <td>1</td>\n      <td>2</td>\n      <td>1</td>\n      <td>1</td>\n      <td>5</td>\n      <td>3</td>\n      <td>2</td>\n      <td>1</td>\n      <td>4</td>\n    </tr>\n    <tr>\n      <th>movies_8</th>\n      <td>2</td>\n      <td>1</td>\n      <td>1</td>\n      <td>2</td>\n      <td>1</td>\n      <td>1</td>\n      <td>1</td>\n      <td>3</td>\n      <td>0</td>\n      <td>0</td>\n      <td>1</td>\n      <td>2</td>\n      <td>0</td>\n      <td>0</td>\n      <td>0</td>\n      <td>2</td>\n      <td>2</td>\n      <td>0</td>\n      <td>1</td>\n      <td>1</td>\n    </tr>\n    <tr>\n      <th>movies_9</th>\n      <td>1</td>\n      <td>3</td>\n      <td>2</td>\n      <td>1</td>\n      <td>1</td>\n      <td>2</td>\n      <td>0</td>\n      <td>1</td>\n      <td>0</td>\n      <td>0</td>\n      <td>2</td>\n      <td>1</td>\n      <td>1</td>\n      <td>0</td>\n      <td>2</td>\n      <td>2</td>\n      <td>2</td>\n      <td>1</td>\n      <td>1</td>\n      <td>3</td>\n    </tr>\n    <tr>\n      <th>movies_10</th>\n      <td>1</td>\n      <td>2</td>\n      <td>1</td>\n      <td>1</td>\n      <td>1</td>\n      <td>0</td>\n      <td>0</td>\n      <td>1</td>\n      <td>1</td>\n      <td>2</td>\n      <td>0</td>\n      <td>1</td>\n      <td>2</td>\n      <td>1</td>\n      <td>3</td>\n      <td>4</td>\n      <td>3</td>\n      <td>0</td>\n      <td>3</td>\n      <td>2</td>\n    </tr>\n    <tr>\n      <th>movies_11</th>\n      <td>3</td>\n      <td>2</td>\n      <td>1</td>\n      <td>1</td>\n      <td>1</td>\n      <td>0</td>\n      <td>1</td>\n      <td>1</td>\n      <td>2</td>\n      <td>1</td>\n      <td>1</td>\n      <td>0</td>\n      <td>1</td>\n      <td>0</td>\n      <td>1</td>\n      <td>3</td>\n      <td>1</td>\n      <td>0</td>\n      <td>3</td>\n      <td>2</td>\n    </tr>\n    <tr>\n      <th>movies_12</th>\n      <td>1</td>\n      <td>3</td>\n      <td>2</td>\n      <td>2</td>\n      <td>0</td>\n      <td>1</td>\n      <td>1</td>\n      <td>2</td>\n      <td>0</td>\n      <td>1</td>\n      <td>2</td>\n      <td>1</td>\n      <td>0</td>\n      <td>3</td>\n      <td>3</td>\n      <td>4</td>\n      <td>2</td>\n      <td>3</td>\n      <td>2</td>\n      <td>2</td>\n    </tr>\n    <tr>\n      <th>movies_13</th>\n      <td>0</td>\n      <td>1</td>\n      <td>0</td>\n      <td>1</td>\n      <td>0</td>\n      <td>0</td>\n      <td>1</td>\n      <td>1</td>\n      <td>0</td>\n      <td>0</td>\n      <td>1</td>\n      <td>0</td>\n      <td>3</td>\n      <td>0</td>\n      <td>2</td>\n      <td>2</td>\n      <td>1</td>\n      <td>2</td>\n      <td>1</td>\n      <td>0</td>\n    </tr>\n    <tr>\n      <th>movies_14</th>\n      <td>1</td>\n      <td>2</td>\n      <td>1</td>\n      <td>1</td>\n      <td>1</td>\n      <td>0</td>\n      <td>1</td>\n      <td>1</td>\n      <td>0</td>\n      <td>2</td>\n      <td>3</td>\n      <td>1</td>\n      <td>3</td>\n      <td>2</td>\n      <td>0</td>\n      <td>4</td>\n      <td>2</td>\n      <td>1</td>\n      <td>2</td>\n      <td>1</td>\n    </tr>\n    <tr>\n      <th>movies_15</th>\n      <td>3</td>\n      <td>3</td>\n      <td>3</td>\n      <td>2</td>\n      <td>2</td>\n      <td>0</td>\n      <td>2</td>\n      <td>5</td>\n      <td>2</td>\n      <td>2</td>\n      <td>4</td>\n      <td>3</td>\n      <td>4</td>\n      <td>2</td>\n      <td>4</td>\n      <td>0</td>\n      <td>4</td>\n      <td>1</td>\n      <td>3</td>\n      <td>4</td>\n    </tr>\n    <tr>\n      <th>movies_16</th>\n      <td>1</td>\n      <td>4</td>\n      <td>3</td>\n      <td>1</td>\n      <td>0</td>\n      <td>1</td>\n      <td>0</td>\n      <td>3</td>\n      <td>2</td>\n      <td>2</td>\n      <td>3</td>\n      <td>1</td>\n      <td>2</td>\n      <td>1</td>\n      <td>2</td>\n      <td>4</td>\n      <td>0</td>\n      <td>0</td>\n      <td>3</td>\n      <td>2</td>\n    </tr>\n    <tr>\n      <th>movies_17</th>\n      <td>0</td>\n      <td>2</td>\n      <td>0</td>\n      <td>1</td>\n      <td>0</td>\n      <td>2</td>\n      <td>1</td>\n      <td>2</td>\n      <td>0</td>\n      <td>1</td>\n      <td>0</td>\n      <td>0</td>\n      <td>3</td>\n      <td>2</td>\n      <td>1</td>\n      <td>1</td>\n      <td>0</td>\n      <td>0</td>\n      <td>0</td>\n      <td>1</td>\n    </tr>\n    <tr>\n      <th>movies_18</th>\n      <td>2</td>\n      <td>2</td>\n      <td>2</td>\n      <td>1</td>\n      <td>1</td>\n      <td>1</td>\n      <td>0</td>\n      <td>1</td>\n      <td>1</td>\n      <td>1</td>\n      <td>3</td>\n      <td>3</td>\n      <td>2</td>\n      <td>1</td>\n      <td>2</td>\n      <td>3</td>\n      <td>3</td>\n      <td>0</td>\n      <td>0</td>\n      <td>2</td>\n    </tr>\n    <tr>\n      <th>movies_19</th>\n      <td>2</td>\n      <td>2</td>\n      <td>2</td>\n      <td>2</td>\n      <td>1</td>\n      <td>2</td>\n      <td>1</td>\n      <td>4</td>\n      <td>1</td>\n      <td>3</td>\n      <td>2</td>\n      <td>2</td>\n      <td>2</td>\n      <td>0</td>\n      <td>1</td>\n      <td>4</td>\n      <td>2</td>\n      <td>1</td>\n      <td>2</td>\n      <td>0</td>\n    </tr>\n  </tbody>\n</table>\n</div>"
     },
     "metadata": {},
     "execution_count": 20
    }
   ],
   "source": [
    "# calculate co-occurrence matrix\n",
    "x = np.array(df)\n",
    "y = np.array(df.T)\n",
    "co_matrix = np.dot(y,x)\n",
    "np.fill_diagonal(co_matrix, 0)\n",
    "df_co = pd.DataFrame(co_matrix, columns = movies, index = movies)\n",
    "df_co"
   ]
  },
  {
   "cell_type": "code",
   "execution_count": 27,
   "metadata": {},
   "outputs": [
    {
     "output_type": "stream",
     "name": "stderr",
     "text": [
      "<ipython-input-27-acc1bc58c28f>:3: FutureWarning: The pandas.np module is deprecated and will be removed from pandas in a future version. Import numpy directly instead\n  idx = pd.np.nonzero(x)\n"
     ]
    },
    {
     "output_type": "execute_result",
     "data": {
      "text/plain": [
       "          movies_0  movies_1  movies_2  movies_3  movies_4  movies_5  \\\n",
       "users_0          0        14        12         0         0         9   \n",
       "users_1          7         0         9         8         3         0   \n",
       "users_2          6        10         5         0         4         0   \n",
       "users_3          3         3         2         3         2         1   \n",
       "users_4          0         5         3         0         4         4   \n",
       "users_5          0         0         0        16        11        12   \n",
       "users_6          9        12         0         7         5         6   \n",
       "users_7          7         5         4         4         3         2   \n",
       "users_8          5         4         3         2         2         1   \n",
       "users_9          6         0         5         0         2         0   \n",
       "users_10         0         0         8         7         5         4   \n",
       "users_11         7         0         9         9         4         0   \n",
       "users_12         1         6         2         4         0         3   \n",
       "users_13         8        10         8         6         0         3   \n",
       "users_14         6         0         0         4         2         7   \n",
       "users_15        13         0        14         0         6         8   \n",
       "users_16         7        13         8         9         5         5   \n",
       "users_17         9        12         0         6         5         5   \n",
       "users_18         0         9         0         6         0         0   \n",
       "users_19        10        15        13         8         6         6   \n",
       "\n",
       "          movies_6  movies_7  movies_8  movies_9  movies_10  movies_11  \\\n",
       "users_0          0         0         0        10         12          0   \n",
       "users_1          3         0         0         8          7          6   \n",
       "users_2          2         8         4         0          5          4   \n",
       "users_3          1         4         0         2          0          3   \n",
       "users_4          3         5         0         2          3          6   \n",
       "users_5          7        24        13         0          0          0   \n",
       "users_6          6         0         7         9         10          8   \n",
       "users_7          2         5         0         2          5          0   \n",
       "users_8          1         2         3         2          4          0   \n",
       "users_9          3         9         4         8          5          4   \n",
       "users_10         4         9         7         7          8          0   \n",
       "users_11         4         0         6         0          7          6   \n",
       "users_12         3         5         0         2          3          1   \n",
       "users_13         4         9         4         0          0          7   \n",
       "users_14         0         8         4         0          8          5   \n",
       "users_15         6        17         9        14          0         13   \n",
       "users_16         0         0         6         7         11          7   \n",
       "users_17         5         0         0         7         10          8   \n",
       "users_18         2         7         6         7          6          8   \n",
       "users_19         5         0        10        11          0         11   \n",
       "\n",
       "          movies_12  movies_13  movies_14  movies_15  movies_16  movies_17  \\\n",
       "users_0          13          5         11          0         14          6   \n",
       "users_1           8          3          5         14          0          6   \n",
       "users_2           6          1          4          8          6          5   \n",
       "users_3           2          1          3          6          5          0   \n",
       "users_4           3          1          2          7          4          1   \n",
       "users_5           0         11          0          0          0          9   \n",
       "users_6           0          6         10          0         14          7   \n",
       "users_7           3          1          3          8          6          0   \n",
       "users_8           3          1          3          6          4          0   \n",
       "users_9           0          7          7         10          8          0   \n",
       "users_10          9          3          8          0         10          3   \n",
       "users_11         12          4          7         15         12          0   \n",
       "users_12          0          0          6          7          3          0   \n",
       "users_13         10          5          0          0         11          3   \n",
       "users_14          8          2          7         12          0          3   \n",
       "users_15          0          0          0          0          0         10   \n",
       "users_16          0          0          0          0         12          0   \n",
       "users_17         10          4          8          0          0          3   \n",
       "users_18          6          1          5         11          8          2   \n",
       "users_19         14          6         13          0          0          4   \n",
       "\n",
       "          movies_18  movies_19  \n",
       "users_0          14          0  \n",
       "users_1           8         11  \n",
       "users_2           5          0  \n",
       "users_3           4          3  \n",
       "users_4           4          5  \n",
       "users_5           0          0  \n",
       "users_6          10          0  \n",
       "users_7           0          5  \n",
       "users_8           0          4  \n",
       "users_9           6          9  \n",
       "users_10         10         10  \n",
       "users_11          7          0  \n",
       "users_12          3          3  \n",
       "users_13         10         11  \n",
       "users_14          8          9  \n",
       "users_15          0         17  \n",
       "users_16          9         13  \n",
       "users_17         10         13  \n",
       "users_18          0          9  \n",
       "users_19          0          0  "
      ],
      "text/html": "<div>\n<style scoped>\n    .dataframe tbody tr th:only-of-type {\n        vertical-align: middle;\n    }\n\n    .dataframe tbody tr th {\n        vertical-align: top;\n    }\n\n    .dataframe thead th {\n        text-align: right;\n    }\n</style>\n<table border=\"1\" class=\"dataframe\">\n  <thead>\n    <tr style=\"text-align: right;\">\n      <th></th>\n      <th>movies_0</th>\n      <th>movies_1</th>\n      <th>movies_2</th>\n      <th>movies_3</th>\n      <th>movies_4</th>\n      <th>movies_5</th>\n      <th>movies_6</th>\n      <th>movies_7</th>\n      <th>movies_8</th>\n      <th>movies_9</th>\n      <th>movies_10</th>\n      <th>movies_11</th>\n      <th>movies_12</th>\n      <th>movies_13</th>\n      <th>movies_14</th>\n      <th>movies_15</th>\n      <th>movies_16</th>\n      <th>movies_17</th>\n      <th>movies_18</th>\n      <th>movies_19</th>\n    </tr>\n  </thead>\n  <tbody>\n    <tr>\n      <th>users_0</th>\n      <td>0</td>\n      <td>14</td>\n      <td>12</td>\n      <td>0</td>\n      <td>0</td>\n      <td>9</td>\n      <td>0</td>\n      <td>0</td>\n      <td>0</td>\n      <td>10</td>\n      <td>12</td>\n      <td>0</td>\n      <td>13</td>\n      <td>5</td>\n      <td>11</td>\n      <td>0</td>\n      <td>14</td>\n      <td>6</td>\n      <td>14</td>\n      <td>0</td>\n    </tr>\n    <tr>\n      <th>users_1</th>\n      <td>7</td>\n      <td>0</td>\n      <td>9</td>\n      <td>8</td>\n      <td>3</td>\n      <td>0</td>\n      <td>3</td>\n      <td>0</td>\n      <td>0</td>\n      <td>8</td>\n      <td>7</td>\n      <td>6</td>\n      <td>8</td>\n      <td>3</td>\n      <td>5</td>\n      <td>14</td>\n      <td>0</td>\n      <td>6</td>\n      <td>8</td>\n      <td>11</td>\n    </tr>\n    <tr>\n      <th>users_2</th>\n      <td>6</td>\n      <td>10</td>\n      <td>5</td>\n      <td>0</td>\n      <td>4</td>\n      <td>0</td>\n      <td>2</td>\n      <td>8</td>\n      <td>4</td>\n      <td>0</td>\n      <td>5</td>\n      <td>4</td>\n      <td>6</td>\n      <td>1</td>\n      <td>4</td>\n      <td>8</td>\n      <td>6</td>\n      <td>5</td>\n      <td>5</td>\n      <td>0</td>\n    </tr>\n    <tr>\n      <th>users_3</th>\n      <td>3</td>\n      <td>3</td>\n      <td>2</td>\n      <td>3</td>\n      <td>2</td>\n      <td>1</td>\n      <td>1</td>\n      <td>4</td>\n      <td>0</td>\n      <td>2</td>\n      <td>0</td>\n      <td>3</td>\n      <td>2</td>\n      <td>1</td>\n      <td>3</td>\n      <td>6</td>\n      <td>5</td>\n      <td>0</td>\n      <td>4</td>\n      <td>3</td>\n    </tr>\n    <tr>\n      <th>users_4</th>\n      <td>0</td>\n      <td>5</td>\n      <td>3</td>\n      <td>0</td>\n      <td>4</td>\n      <td>4</td>\n      <td>3</td>\n      <td>5</td>\n      <td>0</td>\n      <td>2</td>\n      <td>3</td>\n      <td>6</td>\n      <td>3</td>\n      <td>1</td>\n      <td>2</td>\n      <td>7</td>\n      <td>4</td>\n      <td>1</td>\n      <td>4</td>\n      <td>5</td>\n    </tr>\n    <tr>\n      <th>users_5</th>\n      <td>0</td>\n      <td>0</td>\n      <td>0</td>\n      <td>16</td>\n      <td>11</td>\n      <td>12</td>\n      <td>7</td>\n      <td>24</td>\n      <td>13</td>\n      <td>0</td>\n      <td>0</td>\n      <td>0</td>\n      <td>0</td>\n      <td>11</td>\n      <td>0</td>\n      <td>0</td>\n      <td>0</td>\n      <td>9</td>\n      <td>0</td>\n      <td>0</td>\n    </tr>\n    <tr>\n      <th>users_6</th>\n      <td>9</td>\n      <td>12</td>\n      <td>0</td>\n      <td>7</td>\n      <td>5</td>\n      <td>6</td>\n      <td>6</td>\n      <td>0</td>\n      <td>7</td>\n      <td>9</td>\n      <td>10</td>\n      <td>8</td>\n      <td>0</td>\n      <td>6</td>\n      <td>10</td>\n      <td>0</td>\n      <td>14</td>\n      <td>7</td>\n      <td>10</td>\n      <td>0</td>\n    </tr>\n    <tr>\n      <th>users_7</th>\n      <td>7</td>\n      <td>5</td>\n      <td>4</td>\n      <td>4</td>\n      <td>3</td>\n      <td>2</td>\n      <td>2</td>\n      <td>5</td>\n      <td>0</td>\n      <td>2</td>\n      <td>5</td>\n      <td>0</td>\n      <td>3</td>\n      <td>1</td>\n      <td>3</td>\n      <td>8</td>\n      <td>6</td>\n      <td>0</td>\n      <td>0</td>\n      <td>5</td>\n    </tr>\n    <tr>\n      <th>users_8</th>\n      <td>5</td>\n      <td>4</td>\n      <td>3</td>\n      <td>2</td>\n      <td>2</td>\n      <td>1</td>\n      <td>1</td>\n      <td>2</td>\n      <td>3</td>\n      <td>2</td>\n      <td>4</td>\n      <td>0</td>\n      <td>3</td>\n      <td>1</td>\n      <td>3</td>\n      <td>6</td>\n      <td>4</td>\n      <td>0</td>\n      <td>0</td>\n      <td>4</td>\n    </tr>\n    <tr>\n      <th>users_9</th>\n      <td>6</td>\n      <td>0</td>\n      <td>5</td>\n      <td>0</td>\n      <td>2</td>\n      <td>0</td>\n      <td>3</td>\n      <td>9</td>\n      <td>4</td>\n      <td>8</td>\n      <td>5</td>\n      <td>4</td>\n      <td>0</td>\n      <td>7</td>\n      <td>7</td>\n      <td>10</td>\n      <td>8</td>\n      <td>0</td>\n      <td>6</td>\n      <td>9</td>\n    </tr>\n    <tr>\n      <th>users_10</th>\n      <td>0</td>\n      <td>0</td>\n      <td>8</td>\n      <td>7</td>\n      <td>5</td>\n      <td>4</td>\n      <td>4</td>\n      <td>9</td>\n      <td>7</td>\n      <td>7</td>\n      <td>8</td>\n      <td>0</td>\n      <td>9</td>\n      <td>3</td>\n      <td>8</td>\n      <td>0</td>\n      <td>10</td>\n      <td>3</td>\n      <td>10</td>\n      <td>10</td>\n    </tr>\n    <tr>\n      <th>users_11</th>\n      <td>7</td>\n      <td>0</td>\n      <td>9</td>\n      <td>9</td>\n      <td>4</td>\n      <td>0</td>\n      <td>4</td>\n      <td>0</td>\n      <td>6</td>\n      <td>0</td>\n      <td>7</td>\n      <td>6</td>\n      <td>12</td>\n      <td>4</td>\n      <td>7</td>\n      <td>15</td>\n      <td>12</td>\n      <td>0</td>\n      <td>7</td>\n      <td>0</td>\n    </tr>\n    <tr>\n      <th>users_12</th>\n      <td>1</td>\n      <td>6</td>\n      <td>2</td>\n      <td>4</td>\n      <td>0</td>\n      <td>3</td>\n      <td>3</td>\n      <td>5</td>\n      <td>0</td>\n      <td>2</td>\n      <td>3</td>\n      <td>1</td>\n      <td>0</td>\n      <td>0</td>\n      <td>6</td>\n      <td>7</td>\n      <td>3</td>\n      <td>0</td>\n      <td>3</td>\n      <td>3</td>\n    </tr>\n    <tr>\n      <th>users_13</th>\n      <td>8</td>\n      <td>10</td>\n      <td>8</td>\n      <td>6</td>\n      <td>0</td>\n      <td>3</td>\n      <td>4</td>\n      <td>9</td>\n      <td>4</td>\n      <td>0</td>\n      <td>0</td>\n      <td>7</td>\n      <td>10</td>\n      <td>5</td>\n      <td>0</td>\n      <td>0</td>\n      <td>11</td>\n      <td>3</td>\n      <td>10</td>\n      <td>11</td>\n    </tr>\n    <tr>\n      <th>users_14</th>\n      <td>6</td>\n      <td>0</td>\n      <td>0</td>\n      <td>4</td>\n      <td>2</td>\n      <td>7</td>\n      <td>0</td>\n      <td>8</td>\n      <td>4</td>\n      <td>0</td>\n      <td>8</td>\n      <td>5</td>\n      <td>8</td>\n      <td>2</td>\n      <td>7</td>\n      <td>12</td>\n      <td>0</td>\n      <td>3</td>\n      <td>8</td>\n      <td>9</td>\n    </tr>\n    <tr>\n      <th>users_15</th>\n      <td>13</td>\n      <td>0</td>\n      <td>14</td>\n      <td>0</td>\n      <td>6</td>\n      <td>8</td>\n      <td>6</td>\n      <td>17</td>\n      <td>9</td>\n      <td>14</td>\n      <td>0</td>\n      <td>13</td>\n      <td>0</td>\n      <td>0</td>\n      <td>0</td>\n      <td>0</td>\n      <td>0</td>\n      <td>10</td>\n      <td>0</td>\n      <td>17</td>\n    </tr>\n    <tr>\n      <th>users_16</th>\n      <td>7</td>\n      <td>13</td>\n      <td>8</td>\n      <td>9</td>\n      <td>5</td>\n      <td>5</td>\n      <td>0</td>\n      <td>0</td>\n      <td>6</td>\n      <td>7</td>\n      <td>11</td>\n      <td>7</td>\n      <td>0</td>\n      <td>0</td>\n      <td>0</td>\n      <td>0</td>\n      <td>12</td>\n      <td>0</td>\n      <td>9</td>\n      <td>13</td>\n    </tr>\n    <tr>\n      <th>users_17</th>\n      <td>9</td>\n      <td>12</td>\n      <td>0</td>\n      <td>6</td>\n      <td>5</td>\n      <td>5</td>\n      <td>5</td>\n      <td>0</td>\n      <td>0</td>\n      <td>7</td>\n      <td>10</td>\n      <td>8</td>\n      <td>10</td>\n      <td>4</td>\n      <td>8</td>\n      <td>0</td>\n      <td>0</td>\n      <td>3</td>\n      <td>10</td>\n      <td>13</td>\n    </tr>\n    <tr>\n      <th>users_18</th>\n      <td>0</td>\n      <td>9</td>\n      <td>0</td>\n      <td>6</td>\n      <td>0</td>\n      <td>0</td>\n      <td>2</td>\n      <td>7</td>\n      <td>6</td>\n      <td>7</td>\n      <td>6</td>\n      <td>8</td>\n      <td>6</td>\n      <td>1</td>\n      <td>5</td>\n      <td>11</td>\n      <td>8</td>\n      <td>2</td>\n      <td>0</td>\n      <td>9</td>\n    </tr>\n    <tr>\n      <th>users_19</th>\n      <td>10</td>\n      <td>15</td>\n      <td>13</td>\n      <td>8</td>\n      <td>6</td>\n      <td>6</td>\n      <td>5</td>\n      <td>0</td>\n      <td>10</td>\n      <td>11</td>\n      <td>0</td>\n      <td>11</td>\n      <td>14</td>\n      <td>6</td>\n      <td>13</td>\n      <td>0</td>\n      <td>0</td>\n      <td>4</td>\n      <td>0</td>\n      <td>0</td>\n    </tr>\n  </tbody>\n</table>\n</div>"
     },
     "metadata": {},
     "execution_count": 27
    }
   ],
   "source": [
    "# calculate user recommendation matrix\n",
    "user_matrix = np.dot(x, co_matrix)\n",
    "idx = pd.np.nonzero(x)\n",
    "user_matrix[idx] = 0\n",
    "df_user_recommend = pd.DataFrame(user_matrix, columns = movies, index = users)\n",
    "df_user_recommend"
   ]
  },
  {
   "cell_type": "code",
   "execution_count": 91,
   "metadata": {},
   "outputs": [],
   "source": [
    "def recomendacionesDelUsuario(user):\n",
    "    diccOfRecomendation = {}\n",
    "\n",
    "    listRecomendaciones = df_user_recommend.loc[user].values.copy()\n",
    "    listRecomendaciones.sort()\n",
    "\n",
    "    five_better_recomendations = listRecomendaciones[:]  \n",
    "\n",
    "    diccOfMovie = df_user_recommend.loc[user]\n",
    "    diccOfMovie = diccOfMovie.to_dict()\n",
    "\n",
    "    SortDiccOfMovie = dict(sorted(diccOfMovie.items(), key=operator.itemgetter(1),reverse=True))\n",
    "    SortDiccOfMovie = sorted(diccOfMovie.items(), key=operator.itemgetter(1))\n",
    "    SortDiccOfMovie = dict( sorted(diccOfMovie.items(), key=operator.itemgetter(1),reverse=True))\n",
    "    \n",
    "    \n",
    "    for key, value in SortDiccOfMovie.items():\n",
    "        if value in five_better_recomendations:\n",
    "            #print(key, value)\n",
    "            diccOfRecomendation[key] = value\n",
    "    \n",
    "    dicc_items = diccOfRecomendation.items()\n",
    "    first_5 = list(dicc_items)[:5]\n",
    "    pd3 = pd.DataFrame(diccOfRecomendation, index = [0])\n",
    "        \n",
    "    return first_5\n",
    "    \n",
    "\n"
   ]
  },
  {
   "cell_type": "code",
   "execution_count": 104,
   "metadata": {},
   "outputs": [
    {
     "output_type": "execute_result",
     "data": {
      "text/plain": [
       "[('movies_15', 14),\n",
       " ('movies_19', 11),\n",
       " ('movies_2', 9),\n",
       " ('movies_3', 8),\n",
       " ('movies_9', 8)]"
      ]
     },
     "metadata": {},
     "execution_count": 104
    }
   ],
   "source": [
    "recomendacionesDelUsuario(\"users_1\")"
   ]
  },
  {
   "cell_type": "code",
   "execution_count": 107,
   "metadata": {},
   "outputs": [
    {
     "output_type": "stream",
     "name": "stdout",
     "text": [
      "EL suario Movie_10 es el mas parecido al suario Movie_14 con un parecido de 0.5\n"
     ]
    }
   ],
   "source": [
    "similitudEntreUsuarios(\"Movie_10\")"
   ]
  },
  {
   "cell_type": "code",
   "execution_count": 109,
   "metadata": {},
   "outputs": [
    {
     "output_type": "execute_result",
     "data": {
      "text/plain": [
       "          Movie_0  Movie_1  Movie_2  Movie_3  Movie_4  Movie_5  Movie_6  \\\n",
       "Users                                                                     \n",
       "users_0         1        0        0        1        1        0        1   \n",
       "users_1         0        1        0        0        0        1        0   \n",
       "users_2         0        0        0        1        0        1        0   \n",
       "users_3         0        0        0        0        0        0        0   \n",
       "users_4         1        0        0        1        0        0        0   \n",
       "users_5         1        1        1        0        0        0        0   \n",
       "users_6         0        0        1        0        0        0        0   \n",
       "users_7         0        0        0        0        0        0        0   \n",
       "users_8         0        0        0        0        0        0        0   \n",
       "users_9         0        1        0        1        0        1        0   \n",
       "users_10        1        1        0        0        0        0        0   \n",
       "users_11        0        1        0        0        0        1        0   \n",
       "users_12        0        0        0        0        0        0        0   \n",
       "users_13        0        0        0        0        1        0        0   \n",
       "users_14        0        1        1        0        0        0        0   \n",
       "users_15        0        1        0        1        0        0        0   \n",
       "users_16        0        0        0        0        0        0        1   \n",
       "users_17        0        0        1        0        0        0        0   \n",
       "users_18        1        0        1        0        1        1        0   \n",
       "users_19        0        0        0        0        0        0        0   \n",
       "\n",
       "          Movie_7  Movie_8  Movie_9  Movie_10  Movie_11  Movie_12  Movie_13  \\\n",
       "Users                                                                         \n",
       "users_0         1        1        0         0         1         0         0   \n",
       "users_1         1        1        0         0         0         0         0   \n",
       "users_2         0        0        1         0         0         0         0   \n",
       "users_3         0        1        0         1         0         0         0   \n",
       "users_4         0        1        0         0         0         0         0   \n",
       "users_5         0        0        1         1         1         1         0   \n",
       "users_6         1        0        0         0         0         1         0   \n",
       "users_7         0        1        0         0         1         0         0   \n",
       "users_8         0        0        0         0         1         0         0   \n",
       "users_9         0        0        0         0         0         1         0   \n",
       "users_10        0        0        0         0         1         0         0   \n",
       "users_11        1        0        1         0         0         0         0   \n",
       "users_12        0        0        0         0         0         1         1   \n",
       "users_13        0        0        1         1         0         0         0   \n",
       "users_14        0        0        1         0         0         0         0   \n",
       "users_15        0        0        0         1         0         1         1   \n",
       "users_16        1        0        0         0         0         1         1   \n",
       "users_17        1        1        0         0         0         0         0   \n",
       "users_18        0        0        0         0         0         0         0   \n",
       "users_19        1        0        0         1         0         0         0   \n",
       "\n",
       "          Movie_14  Movie_15  Movie_16  Movie_17  Movie_18  Movie_19  \n",
       "Users                                                                 \n",
       "users_0          0         1         0         0         0         1  \n",
       "users_1          0         0         1         0         0         0  \n",
       "users_2          0         0         0         0         0         1  \n",
       "users_3          0         0         0         0         0         0  \n",
       "users_4          0         0         0         0         0         0  \n",
       "users_5          1         1         1         0         1         1  \n",
       "users_6          0         1         0         0         0         1  \n",
       "users_7          0         0         0         0         1         0  \n",
       "users_8          0         0         0         0         1         0  \n",
       "users_9          0         0         0         1         0         0  \n",
       "users_10         0         1         0         0         0         0  \n",
       "users_11         0         0         0         1         0         1  \n",
       "users_12         0         0         0         1         0         0  \n",
       "users_13         1         1         0         0         0         0  \n",
       "users_14         0         0         1         0         0         0  \n",
       "users_15         1         1         1         0         1         0  \n",
       "users_16         1         1         0         1         0         0  \n",
       "users_17         0         1         1         0         0         0  \n",
       "users_18         0         0         0         0         1         0  \n",
       "users_19         0         1         1         0         1         1  "
      ],
      "text/html": "<div>\n<style scoped>\n    .dataframe tbody tr th:only-of-type {\n        vertical-align: middle;\n    }\n\n    .dataframe tbody tr th {\n        vertical-align: top;\n    }\n\n    .dataframe thead th {\n        text-align: right;\n    }\n</style>\n<table border=\"1\" class=\"dataframe\">\n  <thead>\n    <tr style=\"text-align: right;\">\n      <th></th>\n      <th>Movie_0</th>\n      <th>Movie_1</th>\n      <th>Movie_2</th>\n      <th>Movie_3</th>\n      <th>Movie_4</th>\n      <th>Movie_5</th>\n      <th>Movie_6</th>\n      <th>Movie_7</th>\n      <th>Movie_8</th>\n      <th>Movie_9</th>\n      <th>Movie_10</th>\n      <th>Movie_11</th>\n      <th>Movie_12</th>\n      <th>Movie_13</th>\n      <th>Movie_14</th>\n      <th>Movie_15</th>\n      <th>Movie_16</th>\n      <th>Movie_17</th>\n      <th>Movie_18</th>\n      <th>Movie_19</th>\n    </tr>\n    <tr>\n      <th>Users</th>\n      <th></th>\n      <th></th>\n      <th></th>\n      <th></th>\n      <th></th>\n      <th></th>\n      <th></th>\n      <th></th>\n      <th></th>\n      <th></th>\n      <th></th>\n      <th></th>\n      <th></th>\n      <th></th>\n      <th></th>\n      <th></th>\n      <th></th>\n      <th></th>\n      <th></th>\n      <th></th>\n    </tr>\n  </thead>\n  <tbody>\n    <tr>\n      <th>users_0</th>\n      <td>1</td>\n      <td>0</td>\n      <td>0</td>\n      <td>1</td>\n      <td>1</td>\n      <td>0</td>\n      <td>1</td>\n      <td>1</td>\n      <td>1</td>\n      <td>0</td>\n      <td>0</td>\n      <td>1</td>\n      <td>0</td>\n      <td>0</td>\n      <td>0</td>\n      <td>1</td>\n      <td>0</td>\n      <td>0</td>\n      <td>0</td>\n      <td>1</td>\n    </tr>\n    <tr>\n      <th>users_1</th>\n      <td>0</td>\n      <td>1</td>\n      <td>0</td>\n      <td>0</td>\n      <td>0</td>\n      <td>1</td>\n      <td>0</td>\n      <td>1</td>\n      <td>1</td>\n      <td>0</td>\n      <td>0</td>\n      <td>0</td>\n      <td>0</td>\n      <td>0</td>\n      <td>0</td>\n      <td>0</td>\n      <td>1</td>\n      <td>0</td>\n      <td>0</td>\n      <td>0</td>\n    </tr>\n    <tr>\n      <th>users_2</th>\n      <td>0</td>\n      <td>0</td>\n      <td>0</td>\n      <td>1</td>\n      <td>0</td>\n      <td>1</td>\n      <td>0</td>\n      <td>0</td>\n      <td>0</td>\n      <td>1</td>\n      <td>0</td>\n      <td>0</td>\n      <td>0</td>\n      <td>0</td>\n      <td>0</td>\n      <td>0</td>\n      <td>0</td>\n      <td>0</td>\n      <td>0</td>\n      <td>1</td>\n    </tr>\n    <tr>\n      <th>users_3</th>\n      <td>0</td>\n      <td>0</td>\n      <td>0</td>\n      <td>0</td>\n      <td>0</td>\n      <td>0</td>\n      <td>0</td>\n      <td>0</td>\n      <td>1</td>\n      <td>0</td>\n      <td>1</td>\n      <td>0</td>\n      <td>0</td>\n      <td>0</td>\n      <td>0</td>\n      <td>0</td>\n      <td>0</td>\n      <td>0</td>\n      <td>0</td>\n      <td>0</td>\n    </tr>\n    <tr>\n      <th>users_4</th>\n      <td>1</td>\n      <td>0</td>\n      <td>0</td>\n      <td>1</td>\n      <td>0</td>\n      <td>0</td>\n      <td>0</td>\n      <td>0</td>\n      <td>1</td>\n      <td>0</td>\n      <td>0</td>\n      <td>0</td>\n      <td>0</td>\n      <td>0</td>\n      <td>0</td>\n      <td>0</td>\n      <td>0</td>\n      <td>0</td>\n      <td>0</td>\n      <td>0</td>\n    </tr>\n    <tr>\n      <th>users_5</th>\n      <td>1</td>\n      <td>1</td>\n      <td>1</td>\n      <td>0</td>\n      <td>0</td>\n      <td>0</td>\n      <td>0</td>\n      <td>0</td>\n      <td>0</td>\n      <td>1</td>\n      <td>1</td>\n      <td>1</td>\n      <td>1</td>\n      <td>0</td>\n      <td>1</td>\n      <td>1</td>\n      <td>1</td>\n      <td>0</td>\n      <td>1</td>\n      <td>1</td>\n    </tr>\n    <tr>\n      <th>users_6</th>\n      <td>0</td>\n      <td>0</td>\n      <td>1</td>\n      <td>0</td>\n      <td>0</td>\n      <td>0</td>\n      <td>0</td>\n      <td>1</td>\n      <td>0</td>\n      <td>0</td>\n      <td>0</td>\n      <td>0</td>\n      <td>1</td>\n      <td>0</td>\n      <td>0</td>\n      <td>1</td>\n      <td>0</td>\n      <td>0</td>\n      <td>0</td>\n      <td>1</td>\n    </tr>\n    <tr>\n      <th>users_7</th>\n      <td>0</td>\n      <td>0</td>\n      <td>0</td>\n      <td>0</td>\n      <td>0</td>\n      <td>0</td>\n      <td>0</td>\n      <td>0</td>\n      <td>1</td>\n      <td>0</td>\n      <td>0</td>\n      <td>1</td>\n      <td>0</td>\n      <td>0</td>\n      <td>0</td>\n      <td>0</td>\n      <td>0</td>\n      <td>0</td>\n      <td>1</td>\n      <td>0</td>\n    </tr>\n    <tr>\n      <th>users_8</th>\n      <td>0</td>\n      <td>0</td>\n      <td>0</td>\n      <td>0</td>\n      <td>0</td>\n      <td>0</td>\n      <td>0</td>\n      <td>0</td>\n      <td>0</td>\n      <td>0</td>\n      <td>0</td>\n      <td>1</td>\n      <td>0</td>\n      <td>0</td>\n      <td>0</td>\n      <td>0</td>\n      <td>0</td>\n      <td>0</td>\n      <td>1</td>\n      <td>0</td>\n    </tr>\n    <tr>\n      <th>users_9</th>\n      <td>0</td>\n      <td>1</td>\n      <td>0</td>\n      <td>1</td>\n      <td>0</td>\n      <td>1</td>\n      <td>0</td>\n      <td>0</td>\n      <td>0</td>\n      <td>0</td>\n      <td>0</td>\n      <td>0</td>\n      <td>1</td>\n      <td>0</td>\n      <td>0</td>\n      <td>0</td>\n      <td>0</td>\n      <td>1</td>\n      <td>0</td>\n      <td>0</td>\n    </tr>\n    <tr>\n      <th>users_10</th>\n      <td>1</td>\n      <td>1</td>\n      <td>0</td>\n      <td>0</td>\n      <td>0</td>\n      <td>0</td>\n      <td>0</td>\n      <td>0</td>\n      <td>0</td>\n      <td>0</td>\n      <td>0</td>\n      <td>1</td>\n      <td>0</td>\n      <td>0</td>\n      <td>0</td>\n      <td>1</td>\n      <td>0</td>\n      <td>0</td>\n      <td>0</td>\n      <td>0</td>\n    </tr>\n    <tr>\n      <th>users_11</th>\n      <td>0</td>\n      <td>1</td>\n      <td>0</td>\n      <td>0</td>\n      <td>0</td>\n      <td>1</td>\n      <td>0</td>\n      <td>1</td>\n      <td>0</td>\n      <td>1</td>\n      <td>0</td>\n      <td>0</td>\n      <td>0</td>\n      <td>0</td>\n      <td>0</td>\n      <td>0</td>\n      <td>0</td>\n      <td>1</td>\n      <td>0</td>\n      <td>1</td>\n    </tr>\n    <tr>\n      <th>users_12</th>\n      <td>0</td>\n      <td>0</td>\n      <td>0</td>\n      <td>0</td>\n      <td>0</td>\n      <td>0</td>\n      <td>0</td>\n      <td>0</td>\n      <td>0</td>\n      <td>0</td>\n      <td>0</td>\n      <td>0</td>\n      <td>1</td>\n      <td>1</td>\n      <td>0</td>\n      <td>0</td>\n      <td>0</td>\n      <td>1</td>\n      <td>0</td>\n      <td>0</td>\n    </tr>\n    <tr>\n      <th>users_13</th>\n      <td>0</td>\n      <td>0</td>\n      <td>0</td>\n      <td>0</td>\n      <td>1</td>\n      <td>0</td>\n      <td>0</td>\n      <td>0</td>\n      <td>0</td>\n      <td>1</td>\n      <td>1</td>\n      <td>0</td>\n      <td>0</td>\n      <td>0</td>\n      <td>1</td>\n      <td>1</td>\n      <td>0</td>\n      <td>0</td>\n      <td>0</td>\n      <td>0</td>\n    </tr>\n    <tr>\n      <th>users_14</th>\n      <td>0</td>\n      <td>1</td>\n      <td>1</td>\n      <td>0</td>\n      <td>0</td>\n      <td>0</td>\n      <td>0</td>\n      <td>0</td>\n      <td>0</td>\n      <td>1</td>\n      <td>0</td>\n      <td>0</td>\n      <td>0</td>\n      <td>0</td>\n      <td>0</td>\n      <td>0</td>\n      <td>1</td>\n      <td>0</td>\n      <td>0</td>\n      <td>0</td>\n    </tr>\n    <tr>\n      <th>users_15</th>\n      <td>0</td>\n      <td>1</td>\n      <td>0</td>\n      <td>1</td>\n      <td>0</td>\n      <td>0</td>\n      <td>0</td>\n      <td>0</td>\n      <td>0</td>\n      <td>0</td>\n      <td>1</td>\n      <td>0</td>\n      <td>1</td>\n      <td>1</td>\n      <td>1</td>\n      <td>1</td>\n      <td>1</td>\n      <td>0</td>\n      <td>1</td>\n      <td>0</td>\n    </tr>\n    <tr>\n      <th>users_16</th>\n      <td>0</td>\n      <td>0</td>\n      <td>0</td>\n      <td>0</td>\n      <td>0</td>\n      <td>0</td>\n      <td>1</td>\n      <td>1</td>\n      <td>0</td>\n      <td>0</td>\n      <td>0</td>\n      <td>0</td>\n      <td>1</td>\n      <td>1</td>\n      <td>1</td>\n      <td>1</td>\n      <td>0</td>\n      <td>1</td>\n      <td>0</td>\n      <td>0</td>\n    </tr>\n    <tr>\n      <th>users_17</th>\n      <td>0</td>\n      <td>0</td>\n      <td>1</td>\n      <td>0</td>\n      <td>0</td>\n      <td>0</td>\n      <td>0</td>\n      <td>1</td>\n      <td>1</td>\n      <td>0</td>\n      <td>0</td>\n      <td>0</td>\n      <td>0</td>\n      <td>0</td>\n      <td>0</td>\n      <td>1</td>\n      <td>1</td>\n      <td>0</td>\n      <td>0</td>\n      <td>0</td>\n    </tr>\n    <tr>\n      <th>users_18</th>\n      <td>1</td>\n      <td>0</td>\n      <td>1</td>\n      <td>0</td>\n      <td>1</td>\n      <td>1</td>\n      <td>0</td>\n      <td>0</td>\n      <td>0</td>\n      <td>0</td>\n      <td>0</td>\n      <td>0</td>\n      <td>0</td>\n      <td>0</td>\n      <td>0</td>\n      <td>0</td>\n      <td>0</td>\n      <td>0</td>\n      <td>1</td>\n      <td>0</td>\n    </tr>\n    <tr>\n      <th>users_19</th>\n      <td>0</td>\n      <td>0</td>\n      <td>0</td>\n      <td>0</td>\n      <td>0</td>\n      <td>0</td>\n      <td>0</td>\n      <td>1</td>\n      <td>0</td>\n      <td>0</td>\n      <td>1</td>\n      <td>0</td>\n      <td>0</td>\n      <td>0</td>\n      <td>0</td>\n      <td>1</td>\n      <td>1</td>\n      <td>0</td>\n      <td>1</td>\n      <td>1</td>\n    </tr>\n  </tbody>\n</table>\n</div>"
     },
     "metadata": {},
     "execution_count": 109
    }
   ],
   "source": [
    "df.head(20)"
   ]
  },
  {
   "cell_type": "code",
   "execution_count": null,
   "metadata": {},
   "outputs": [],
   "source": []
  }
 ],
 "metadata": {
  "kernelspec": {
   "name": "python385jvsc74a57bd065c7b65fc82b448c8011f99bd8f98831e7bc5c92a479ce3bfe18c36b701290fd",
   "display_name": "Python 3.8.5 64-bit ('base': conda)"
  },
  "language_info": {
   "codemirror_mode": {
    "name": "ipython",
    "version": 3
   },
   "file_extension": ".py",
   "mimetype": "text/x-python",
   "name": "python",
   "nbconvert_exporter": "python",
   "pygments_lexer": "ipython3",
   "version": "3.8.5"
  }
 },
 "nbformat": 4,
 "nbformat_minor": 4
}